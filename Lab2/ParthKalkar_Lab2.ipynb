{
  "nbformat": 4,
  "nbformat_minor": 0,
  "metadata": {
    "colab": {
      "name": "ParthKalkar_Lab2.ipynb",
      "provenance": [],
      "collapsed_sections": [],
      "toc_visible": true
    },
    "kernelspec": {
      "name": "python3",
      "display_name": "Python 3"
    }
  },
  "cells": [
    {
      "cell_type": "markdown",
      "metadata": {
        "id": "jiZKtA96sQtX"
      },
      "source": [
        "# Task 1"
      ]
    },
    {
      "cell_type": "markdown",
      "metadata": {
        "id": "NdhSuSkzsTXh"
      },
      "source": [
        "## Task 1.1 Make the following systems stable, proposing appropriate control\r\n",
        "\r\n",
        "\r\n",
        "* a) $$\\dot x = \r\n",
        "\\begin{pmatrix} 10 & 0 \\\\ -5 & 10\r\n",
        "\\end{pmatrix}\r\n",
        "x\r\n",
        "+\r\n",
        "\\begin{pmatrix} \r\n",
        "2 \\\\ 0\r\n",
        "\\end{pmatrix}\r\n",
        "u\r\n",
        "\r\n",
        "$$\r\n",
        "\r\n",
        "\r\n",
        "We can start by writing $'u'$ as $$u=-Kx$$\r\n",
        "we know that 'K' matrix is given by: \r\n",
        "$$\r\n",
        "K = \r\n",
        "\\begin{bmatrix}\r\n",
        "k_1 & k_2\r\n",
        "\\end{bmatrix}\r\n",
        "$$\r\n",
        "\\\r\n",
        "Resubsituting these values into our original equation we will have: \r\n",
        "$$\r\n",
        "\\dot x = Ax-BKx\r\n",
        "$$\r\n",
        "$$\r\n",
        "\\dot x = (A-BK)x\r\n",
        "$$\r\n",
        "\\\r\n",
        "If want to make our system stable then we need to make real part of eigenvalues of $(A-BK)$ less or equal to 0.\r\n"
      ]
    },
    {
      "cell_type": "markdown",
      "metadata": {
        "id": "AfRidBtp_kuE"
      },
      "source": [
        "The code mentioned below helps us to find appropriate values of $k_1$ and $k_2$ assuming that resulting eigenvalues of $(A-BK)$ are $-1$ and $-2$.\r\n",
        "We have already specified the values of matrix A and matrix B. Values of matrix $K$ will be found."
      ]
    },
    {
      "cell_type": "code",
      "metadata": {
        "colab": {
          "base_uri": "https://localhost:8080/"
        },
        "id": "y5qJrTunyTCV",
        "outputId": "73e97d0e-58e2-4820-c043-fbcb4fe94782"
      },
      "source": [
        "import numpy as np\r\n",
        "from numpy.linalg import eig\r\n",
        "from scipy.integrate import odeint\r\n",
        "from scipy.signal import place_poles\r\n",
        "\r\n",
        "n = 2\r\n",
        "A = np.array([[10, 0], [-5, 10]])\r\n",
        "B = np.array([[2], [0]])\r\n",
        "\r\n",
        "# x_dot from state space\r\n",
        "def StateSpace(x, t):\r\n",
        "    return A.dot(x)\r\n",
        "\r\n",
        "time = np.linspace(0, 1, 1000)   \r\n",
        "x0 = np.random.rand(n)  # initial state\r\n",
        "\r\n",
        "solution = {\"SS\": odeint(StateSpace, x0, time)}\r\n",
        "\r\n",
        "#desired eigenvalues\r\n",
        "poles = np.array([-1, -2])\r\n",
        "place_obj = place_poles(A, B, poles)\r\n",
        "\r\n",
        "#found control gains\r\n",
        "K = place_obj.gain_matrix;\r\n",
        "print(\"K:\", K)\r\n",
        "\r\n",
        "#test that eigenvalues of the closed loop system are what they are supposed to be \r\n",
        "e, v = eig((A - B.dot(K)))\r\n",
        "print(\"Eigenvalues of A - B*K:\", e)"
      ],
      "execution_count": 1,
      "outputs": [
        {
          "output_type": "stream",
          "text": [
            "K: [[ 11.5 -13.2]]\n",
            "Eigenvalues of A - B*K: [-2. -1.]\n"
          ],
          "name": "stdout"
        }
      ]
    },
    {
      "cell_type": "code",
      "metadata": {
        "colab": {
          "base_uri": "https://localhost:8080/",
          "height": 296
        },
        "id": "gFxBJaVHzBtN",
        "outputId": "cc82e1ae-211e-48d0-b6db-f9d1ae283ca7"
      },
      "source": [
        "from scipy.integrate import odeint\r\n",
        "import matplotlib.pyplot as plt\r\n",
        "\r\n",
        "def LTI(x, t):\r\n",
        "    return (A - B.dot(K)).dot(x)\r\n",
        "\r\n",
        "\r\n",
        "time = np.linspace(0, 10, 1000)    # interval from 0 to 10\r\n",
        "x0 = np.array([1, 1])          # initial state\r\n",
        "\r\n",
        "solution = odeint(LTI, x0, time)\r\n",
        "\r\n",
        "plt.plot(time, solution)\r\n",
        "plt.xlabel('time')\r\n",
        "plt.ylabel('x(t)')"
      ],
      "execution_count": 4,
      "outputs": [
        {
          "output_type": "execute_result",
          "data": {
            "text/plain": [
              "Text(0, 0.5, 'x(t)')"
            ]
          },
          "metadata": {
            "tags": []
          },
          "execution_count": 4
        },
        {
          "output_type": "display_data",
          "data": {
            "image/png": "[encoded data removed]",
            "text/plain": [
              "<Figure size 432x288 with 1 Axes>"
            ]
          },
          "metadata": {
            "tags": [],
            "needs_background": "light"
          }
        }
      ]
    },
    {
      "cell_type": "markdown",
      "metadata": {
        "id": "bZYxCGdq4TAk"
      },
      "source": [
        "Comparing this resulting graph with another:\r\n",
        "\r\n",
        "Assume, that poles $s_1=-10$ and $s_2=-20$"
      ]
    },
    {
      "cell_type": "code",
      "metadata": {
        "colab": {
          "base_uri": "https://localhost:8080/",
          "height": 330
        },
        "id": "YHc0fDe-zPT_",
        "outputId": "85a356a5-8d23-4c2b-8ca8-1ca4baff4bc6"
      },
      "source": [
        "#desired eigenvalues\r\n",
        "poles = np.array([-10, -20])\r\n",
        "place_obj = place_poles(A, B, poles)\r\n",
        "\r\n",
        "#found control gains\r\n",
        "K = place_obj.gain_matrix;\r\n",
        "print(\"K:\", K)\r\n",
        "\r\n",
        "#test that eigenvalues of the closed loop system are what they are supposed to be \r\n",
        "e, v = eig((A - B.dot(K)))\r\n",
        "print(\"eigenvalues of A - B*K:\", e)\r\n",
        "\r\n",
        "from scipy.integrate import odeint\r\n",
        "import matplotlib.pyplot as plt\r\n",
        "\r\n",
        "def LTI(x, t):\r\n",
        "    return (A - B.dot(K)).dot(x)\r\n",
        "\r\n",
        "\r\n",
        "time = np.linspace(0, 1, 1000)    # interval from 0 to 10\r\n",
        "x0 = np.array([1, 1])          # initial state\r\n",
        "\r\n",
        "solution = odeint(LTI, x0, time)\r\n",
        "\r\n",
        "plt.plot(time, solution)\r\n",
        "plt.xlabel('time')\r\n",
        "plt.ylabel('x(t)')"
      ],
      "execution_count": 5,
      "outputs": [
        {
          "output_type": "stream",
          "text": [
            "K: [[ 25. -60.]]\n",
            "eigenvalues of A - B*K: [-20. -10.]\n"
          ],
          "name": "stdout"
        },
        {
          "output_type": "execute_result",
          "data": {
            "text/plain": [
              "Text(0, 0.5, 'x(t)')"
            ]
          },
          "metadata": {
            "tags": []
          },
          "execution_count": 5
        },
        {
          "output_type": "display_data",
          "data": {
            "image/png": "[encoded data removed]",
            "text/plain": [
              "<Figure size 432x288 with 1 Axes>"
            ]
          },
          "metadata": {
            "tags": [],
            "needs_background": "light"
          }
        }
      ]
    },
    {
      "cell_type": "markdown",
      "metadata": {
        "id": "o7tRM_zV1BDd"
      },
      "source": [
        "* b) $$\\dot x = \r\n",
        "\\begin{pmatrix} 0 & -8 \\\\ 1 & 30\r\n",
        "\\end{pmatrix}\r\n",
        "x\r\n",
        "+\r\n",
        "\\begin{pmatrix} \r\n",
        "-2 \\\\ 1\r\n",
        "\\end{pmatrix}\r\n",
        "u\r\n",
        "$$\r\n"
      ]
    },
    {
      "cell_type": "markdown",
      "metadata": {
        "id": "NDJySVBLD4Xj"
      },
      "source": [
        "Same steps as mentioned for task 1.1a, detailed solution with different values has been presented at 1.1d"
      ]
    },
    {
      "cell_type": "code",
      "metadata": {
        "colab": {
          "base_uri": "https://localhost:8080/"
        },
        "id": "j9XzjRyt1Jrm",
        "outputId": "89551ae9-6b63-4608-9745-b495c12f4610"
      },
      "source": [
        "import numpy as np\r\n",
        "from numpy.linalg import eig\r\n",
        "from scipy.integrate import odeint\r\n",
        "from scipy.signal import place_poles\r\n",
        "\r\n",
        "n = 2\r\n",
        "A = np.array([[0, -8], [1, 30]])\r\n",
        "B = np.array([[-2], [1]])\r\n",
        "\r\n",
        "# x_dot from state space\r\n",
        "def StateSpace(x, t):\r\n",
        "    return A.dot(x)# + B*np.sin(t)\r\n",
        "\r\n",
        "time = np.linspace(0, 1, 1000)   \r\n",
        "x0 = np.random.rand(n)  # initial state\r\n",
        "\r\n",
        "solution = {\"SS\": odeint(StateSpace, x0, time)}\r\n",
        "\r\n",
        "#desired eigenvalues\r\n",
        "poles = np.array([-1, -2])\r\n",
        "place_obj = place_poles(A, B, poles)\r\n",
        "\r\n",
        "#found control gains\r\n",
        "K = place_obj.gain_matrix;\r\n",
        "print(\"K:\", K)\r\n",
        "\r\n",
        "#test that eigenvalues of the closed loop system are what they are supposed to be \r\n",
        "e, v = eig((A - B.dot(K)))\r\n",
        "print(\"eigenvalues of A - B*K:\", e)"
      ],
      "execution_count": 11,
      "outputs": [
        {
          "output_type": "stream",
          "text": [
            "K: [[ 1.25 35.5 ]]\n",
            "eigenvalues of A - B*K: [-1. -2.]\n"
          ],
          "name": "stdout"
        }
      ]
    },
    {
      "cell_type": "code",
      "metadata": {
        "colab": {
          "base_uri": "https://localhost:8080/",
          "height": 296
        },
        "id": "5iC2y8Ul1d4e",
        "outputId": "c50fdc52-187a-42b5-f130-487d2c17e0e2"
      },
      "source": [
        "from scipy.integrate import odeint\r\n",
        "import matplotlib.pyplot as plt\r\n",
        "\r\n",
        "def LTI(x, t):\r\n",
        "    return (A - B.dot(K)).dot(x)\r\n",
        "\r\n",
        "time = np.linspace(0, 10, 1000)    # interval from 0 to 10\r\n",
        "x0 = np.array([1, 1])          # initial state\r\n",
        "\r\n",
        "solution = odeint(LTI, x0, time)\r\n",
        "\r\n",
        "plt.plot(time, solution)\r\n",
        "plt.xlabel('time')\r\n",
        "plt.ylabel('x(t)')"
      ],
      "execution_count": 6,
      "outputs": [
        {
          "output_type": "execute_result",
          "data": {
            "text/plain": [
              "Text(0, 0.5, 'x(t)')"
            ]
          },
          "metadata": {
            "tags": []
          },
          "execution_count": 6
        },
        {
          "output_type": "display_data",
          "data": {
            "image/png": "[encoded data removed]",
            "text/plain": [
              "<Figure size 432x288 with 1 Axes>"
            ]
          },
          "metadata": {
            "tags": [],
            "needs_background": "light"
          }
        }
      ]
    },
    {
      "cell_type": "markdown",
      "metadata": {
        "id": "LcfKbzYQ3CCY"
      },
      "source": [
        "* с) $$\\dot x = \r\n",
        "\\begin{pmatrix} 2 & 2 \\\\ -6 & 10\r\n",
        "\\end{pmatrix}\r\n",
        "x\r\n",
        "+\r\n",
        "\\begin{pmatrix} \r\n",
        "0 \\\\ 5\r\n",
        "\\end{pmatrix}\r\n",
        "u\r\n",
        "$$"
      ]
    },
    {
      "cell_type": "markdown",
      "metadata": {
        "id": "ta3phWlkEOah"
      },
      "source": [
        "Same steps as mentioned for task 1.1a, detailed solution with different values has been presented at 1.1d"
      ]
    },
    {
      "cell_type": "code",
      "metadata": {
        "colab": {
          "base_uri": "https://localhost:8080/"
        },
        "id": "PQP4f8Ft3Sns",
        "outputId": "50a19fb1-7021-4f97-d9c0-38e8e85989a4"
      },
      "source": [
        "import numpy as np\r\n",
        "from numpy.linalg import eig\r\n",
        "from scipy.integrate import odeint\r\n",
        "from scipy.signal import place_poles\r\n",
        "\r\n",
        "n = 2\r\n",
        "A = np.array([[2, 2], [-6, 10]])\r\n",
        "B = np.array([[0], [5]])\r\n",
        "\r\n",
        "# x_dot from state space\r\n",
        "def StateSpace(x, t):\r\n",
        "    return A.dot(x)# + B*np.sin(t)\r\n",
        "\r\n",
        "time = np.linspace(0, 1, 1000)   \r\n",
        "x0 = np.random.rand(n)  # initial state\r\n",
        "\r\n",
        "solution = {\"SS\": odeint(StateSpace, x0, time)}\r\n",
        "\r\n",
        "#desired eigenvalues\r\n",
        "poles = np.array([-1, -2])\r\n",
        "place_obj = place_poles(A, B, poles)\r\n",
        "\r\n",
        "#found control gains\r\n",
        "K = place_obj.gain_matrix;\r\n",
        "print(\"K:\", K)\r\n",
        "\r\n",
        "#test that eigenvalues of the closed loop system are what they are supposed to be \r\n",
        "e, v = eig((A - B.dot(K)))\r\n",
        "print(\"eigenvalues of A - B*K:\", e)"
      ],
      "execution_count": 7,
      "outputs": [
        {
          "output_type": "stream",
          "text": [
            "K: [[1.42108547e-15 3.00000000e+00]]\n",
            "eigenvalues of A - B*K: [-1. -2.]\n"
          ],
          "name": "stdout"
        }
      ]
    },
    {
      "cell_type": "code",
      "metadata": {
        "colab": {
          "base_uri": "https://localhost:8080/",
          "height": 296
        },
        "id": "LN9S11Sy3gSI",
        "outputId": "1ff27df0-c188-4c9b-ba3a-b8e50077d220"
      },
      "source": [
        "from scipy.integrate import odeint\r\n",
        "import matplotlib.pyplot as plt\r\n",
        "\r\n",
        "def LTI(x, t):\r\n",
        "    return (A - B.dot(K)).dot(x)\r\n",
        "\r\n",
        "time = np.linspace(0, 10, 1000)    # interval from 0 to 10\r\n",
        "x0 = np.array([1, 1])          # initial state\r\n",
        "\r\n",
        "solution = odeint(LTI, x0, time)\r\n",
        "\r\n",
        "plt.plot(time, solution)\r\n",
        "plt.xlabel('time')\r\n",
        "plt.ylabel('x(t)')"
      ],
      "execution_count": 8,
      "outputs": [
        {
          "output_type": "execute_result",
          "data": {
            "text/plain": [
              "Text(0, 0.5, 'x(t)')"
            ]
          },
          "metadata": {
            "tags": []
          },
          "execution_count": 8
        },
        {
          "output_type": "display_data",
          "data": {
            "image/png": "[encoded data removed]",
            "text/plain": [
              "<Figure size 432x288 with 1 Axes>"
            ]
          },
          "metadata": {
            "tags": [],
            "needs_background": "light"
          }
        }
      ]
    },
    {
      "cell_type": "markdown",
      "metadata": {
        "id": "b3c2WEWY3xI0"
      },
      "source": [
        "* d) \r\n",
        "$$\\dot x = \r\n",
        "\\begin{pmatrix} 5 & -5 \\\\ 5 & 16\r\n",
        "\\end{pmatrix}\r\n",
        "x\r\n",
        "+\r\n",
        "\\begin{pmatrix} \r\n",
        "-10 \\\\ 10\r\n",
        "\\end{pmatrix}\r\n",
        "u\r\n",
        "$$"
      ]
    },
    {
      "cell_type": "markdown",
      "metadata": {
        "id": "fhtd_P4btnNm"
      },
      "source": [
        "Step 1: $$det(sI − A) = (s − 5)(s − 15) + 30 = s^2 − 20s + 105 = 0 $$\r\n",
        "\r\n",
        "Solving this equation, we get: \r\n",
        "\r\n",
        "Eigenvalues are $\\lambda_1=10 + 2.2361i$ and $\\lambda_2=10 - 2.2361i$\r\n",
        "\r\n",
        "As a result we can clearly see that the system is unstable.\r\n",
        "\r\n",
        "Step 2: Define $u = − [k_1 \\quad k_2] \\qquad x(t) = −Kx(t)$, then\r\n",
        "\r\n",
        "\\begin{align}\r\n",
        "    A_{cl} = A  - BK = \\begin{bmatrix}\r\n",
        "        5 & -5  \\\\\r\n",
        "        6 & 15  \r\n",
        "    \\end{bmatrix} -  \r\n",
        "    \\begin{bmatrix}\r\n",
        "        -10 \\\\\r\n",
        "        10   \r\n",
        "    \\end{bmatrix} \r\n",
        "    \\begin{bmatrix}\r\n",
        "        k_1  & k_2\r\n",
        "    \\end{bmatrix} =\r\n",
        "    \\begin{bmatrix}\r\n",
        "        5 + 10k_1 & -5 + 10k_2\\\\\r\n",
        "        6-10k_1 & 15-10k_2 \r\n",
        "    \\end{bmatrix}  \r\n",
        "\\end{align}\r\n",
        "\r\n",
        "Simplifying the above given equation we get: \r\n",
        "\r\n",
        "$$det(sI − A_{cl} ) = (s-5-10k_1)(s-15+10k_2)-(6-10k_1)(10k_2-5) = s^2-20s\r\n",
        "+10sk_2+75-50k_2-10sk_1+150k_1-100k_1k_2+30-60k_2-50k_1+100k_1k_2 = s^2\r\n",
        " + \r\n",
        "(10k_2-10k_1-20)s + (100k_1-110k_2+ 105) = 0$$\r\n",
        "\r\n",
        "Thus, we choose such $k_1$ and $k_2$ that we can put $λ_i(A_{cl} )$  anywhere in the complex plane\r\n",
        "\r\n",
        "Step 3: To put the poles at $s = −1, −2$, we compare the desired characteristic equation\r\n",
        "$$(s + 1)(s + 2) = s^2 + 3s + 2 = 0$$\r\n",
        "\r\n",
        "with the closed-loop one\r\n",
        "$$s^2 + (10k_2-10k_1-20)s + (100k_1-110k_2-200k_1k_2+ 45) = 0$$\r\n",
        "\r\n",
        "Simplifying: \r\n",
        "\r\n",
        "\\begin{align}\r\n",
        "  &10k_2-10k_1-20 = 3 \\\\\r\n",
        "  &100k_1-110k_2+ 105 = 2\r\n",
        "\\end{align} \r\n",
        "\r\n",
        "\\begin{align}\r\n",
        " \\implies & k_1= -15 \\\\\r\n",
        "  & k_2 = -12.7\r\n",
        "\\end{align} \r\n",
        "\r\n",
        "so that $K = [-15 \\quad -12.7]$"
      ]
    },
    {
      "cell_type": "code",
      "metadata": {
        "colab": {
          "base_uri": "https://localhost:8080/"
        },
        "id": "tJOzdYDe30Tr",
        "outputId": "85dc4f91-1307-474a-9e7e-bbf2d6dbe51e"
      },
      "source": [
        "import numpy as np\r\n",
        "from numpy.linalg import eig\r\n",
        "from scipy.integrate import odeint\r\n",
        "from scipy.signal import place_poles\r\n",
        "\r\n",
        "n = 2\r\n",
        "A = np.array([[5, -5], [6, 15]])\r\n",
        "B = np.array([[-10], [10]])\r\n",
        "\r\n",
        "# x_dot from state space\r\n",
        "def StateSpace(x, t):\r\n",
        "    return A.dot(x)# + B*np.sin(t)\r\n",
        "\r\n",
        "time = np.linspace(0, 1, 1000)   \r\n",
        "x0 = np.random.rand(n)  # initial state\r\n",
        "\r\n",
        "solution = {\"SS\": odeint(StateSpace, x0, time)}\r\n",
        "\r\n",
        "#desired eigenvalues\r\n",
        "poles = np.array([-1, -2])\r\n",
        "place_obj = place_poles(A, B, poles)\r\n",
        "\r\n",
        "#found control gains\r\n",
        "K = place_obj.gain_matrix;\r\n",
        "print(\"K:\", K)\r\n",
        "\r\n",
        "#test that eigenvalues of the closed loop system are what they are supposed to be \r\n",
        "e, v = eig((A - B.dot(K)))\r\n",
        "print(\"eigenvalues of A - B*K:\", e)"
      ],
      "execution_count": 9,
      "outputs": [
        {
          "output_type": "stream",
          "text": [
            "K: [[-15.  -12.7]]\n",
            "eigenvalues of A - B*K: [-2. -1.]\n"
          ],
          "name": "stdout"
        }
      ]
    },
    {
      "cell_type": "code",
      "metadata": {
        "colab": {
          "base_uri": "https://localhost:8080/",
          "height": 297
        },
        "id": "HNFOBl833-sf",
        "outputId": "faeb8c87-802f-4954-b1d6-bae2911bd948"
      },
      "source": [
        "from scipy.integrate import odeint\r\n",
        "import matplotlib.pyplot as plt\r\n",
        "\r\n",
        "def LTI(x, t):\r\n",
        "    return (A - B.dot(K)).dot(x)\r\n",
        "\r\n",
        "time = np.linspace(0, 10, 1000)    # interval from 0 to 10\r\n",
        "x0 = np.array([1, 1])          # initial state\r\n",
        "\r\n",
        "solution = odeint(LTI, x0, time)\r\n",
        "\r\n",
        "plt.plot(time, solution)\r\n",
        "plt.xlabel('time')\r\n",
        "plt.ylabel('x(t)')"
      ],
      "execution_count": 10,
      "outputs": [
        {
          "output_type": "execute_result",
          "data": {
            "text/plain": [
              "Text(0, 0.5, 'x(t)')"
            ]
          },
          "metadata": {
            "tags": []
          },
          "execution_count": 10
        },
        {
          "output_type": "display_data",
          "data": {
            "image/png": "[encoded data removed]",
            "text/plain": [
              "<Figure size 432x288 with 1 Axes>"
            ]
          },
          "metadata": {
            "tags": [],
            "needs_background": "light"
          }
        }
      ]
    },
    {
      "cell_type": "markdown",
      "metadata": {
        "id": "NULxIEZ75KQ7"
      },
      "source": [
        "## Task 1.2 Make the following systems stables, proposing appropriate control\r\n",
        "\r\n",
        "* a) $$\\dot x = \r\n",
        "\\begin{pmatrix} 10 & 0 \\\\ -5 & 10\r\n",
        "\\end{pmatrix}\r\n",
        "x\r\n",
        "+\r\n",
        "\\begin{pmatrix} \r\n",
        "2 & 1 \\\\ 0 & -1\r\n",
        "\\end{pmatrix}\r\n",
        "u\r\n",
        "$$"
      ]
    },
    {
      "cell_type": "markdown",
      "metadata": {
        "id": "xfbgsMsTGFvS"
      },
      "source": [
        "To solve this task we can use the same method as in the previous task, i.e. rewrite $u$ as \r\n",
        "$$u=-Kx$$\r\n",
        "But since now $B$ is a $2*2$ square matrix ,   $K$ is also a $2*2 $ matrix, therefore:  \r\n",
        "$$\r\n",
        "K=\\begin{bmatrix}\r\n",
        "k_1 & k_2 \\\\ k_3 & k_4\r\n",
        "\\end{bmatrix}\r\n",
        "$$\r\n",
        "Resubsituting these values: \r\n",
        "$$\r\n",
        "\\dot x =Ax-BKx\r\n",
        "$$\r\n",
        "$$\r\n",
        "\\dot x = (A-BK)x\r\n",
        "$$\r\n",
        "\\\r\n",
        "If want to make our system stable then we need to make real part of eigenvalues of $(A-BK)$ less or equal to 0."
      ]
    },
    {
      "cell_type": "markdown",
      "metadata": {
        "id": "c93JHGe4HLVY"
      },
      "source": [
        "The code mentioned below helps us to find appropriate values of $k_1$ and $k_2$ assuming that resulting eigenvalues of $(A-BK)$ are $-1$ and $-2$.\r\n",
        "We have already specified the values of matrix A and matrix B. Values of matrix $K$ will be found."
      ]
    },
    {
      "cell_type": "code",
      "metadata": {
        "colab": {
          "base_uri": "https://localhost:8080/"
        },
        "id": "V4J54Whm9Dme",
        "outputId": "3e3e7607-6076-4c27-97ab-0092c69c26b6"
      },
      "source": [
        "import numpy as np\r\n",
        "from numpy.linalg import eig\r\n",
        "from scipy.integrate import odeint\r\n",
        "from scipy.signal import place_poles\r\n",
        "\r\n",
        "n = 2\r\n",
        "A = np.array([[10, 0], [-5, 10]])\r\n",
        "B = np.array([[2, 1], [0, -1]])\r\n",
        "\r\n",
        "# x_dot from state space\r\n",
        "def StateSpace(x, t):\r\n",
        "    return A.dot(x)\r\n",
        "\r\n",
        "time = np.linspace(0, 1, 1000)   \r\n",
        "x0 = np.random.rand(n)  # initial state\r\n",
        "\r\n",
        "solution = {\"SS\": odeint(StateSpace, x0, time)}\r\n",
        "\r\n",
        "#desired eigenvalues\r\n",
        "poles = np.array([-1, -2])\r\n",
        "place_obj = place_poles(A, B, poles)\r\n",
        "\r\n",
        "#found control gains\r\n",
        "K = place_obj.gain_matrix;\r\n",
        "print(\"K:\", K)\r\n",
        "\r\n",
        "#test that eigenvalues of the closed loop system are what they are supposed to be \r\n",
        "e, v = eig((A - B.dot(K)))\r\n",
        "print(\"eigenvalues of A - B*K:\", e)"
      ],
      "execution_count": 11,
      "outputs": [
        {
          "output_type": "stream",
          "text": [
            "K: [[  3.5   5.5]\n",
            " [  5.  -11. ]]\n",
            "eigenvalues of A - B*K: [-1. -2.]\n"
          ],
          "name": "stdout"
        }
      ]
    },
    {
      "cell_type": "code",
      "metadata": {
        "colab": {
          "base_uri": "https://localhost:8080/",
          "height": 296
        },
        "id": "Cmmrl5T59NXs",
        "outputId": "34a9e499-ef74-459f-8dc3-58e2eff2026c"
      },
      "source": [
        "from scipy.integrate import odeint\r\n",
        "import matplotlib.pyplot as plt\r\n",
        "\r\n",
        "def LTI(x, t):\r\n",
        "    return (A - B.dot(K)).dot(x)\r\n",
        "\r\n",
        "time = np.linspace(0, 10, 1000)    # interval from 0 to 10\r\n",
        "x0 = np.array([1, 1])          # initial state\r\n",
        "\r\n",
        "solution = odeint(LTI, x0, time)\r\n",
        "\r\n",
        "plt.plot(time, solution)\r\n",
        "plt.xlabel('time')\r\n",
        "plt.ylabel('x(t)')"
      ],
      "execution_count": 12,
      "outputs": [
        {
          "output_type": "execute_result",
          "data": {
            "text/plain": [
              "Text(0, 0.5, 'x(t)')"
            ]
          },
          "metadata": {
            "tags": []
          },
          "execution_count": 12
        },
        {
          "output_type": "display_data",
          "data": {
            "image/png": "[encoded data removed]",
            "text/plain": [
              "<Figure size 432x288 with 1 Axes>"
            ]
          },
          "metadata": {
            "tags": [],
            "needs_background": "light"
          }
        }
      ]
    },
    {
      "cell_type": "markdown",
      "metadata": {
        "id": "9aqEQfOi-GhN"
      },
      "source": [
        "* b)\r\n",
        "$$\\dot x = \r\n",
        "\\begin{pmatrix} 0 & -8 \\\\ 1 & 30\r\n",
        "\\end{pmatrix}\r\n",
        "x\r\n",
        "+\r\n",
        "\\begin{pmatrix} \r\n",
        "-2 & 1 \\\\ 1 & 1\r\n",
        "\\end{pmatrix}\r\n",
        "u\r\n",
        "$$"
      ]
    },
    {
      "cell_type": "markdown",
      "metadata": {
        "id": "l1cAytB4HkHq"
      },
      "source": [
        "Same steps as in 1.2a"
      ]
    },
    {
      "cell_type": "code",
      "metadata": {
        "colab": {
          "base_uri": "https://localhost:8080/"
        },
        "id": "lJZQxpIP-LaT",
        "outputId": "827abc63-6158-4f83-aae0-811973725628"
      },
      "source": [
        "import numpy as np\r\n",
        "from numpy.linalg import eig\r\n",
        "from scipy.integrate import odeint\r\n",
        "from scipy.signal import place_poles\r\n",
        "\r\n",
        "n = 2\r\n",
        "A = np.array([[0, -8], [1, 30]])\r\n",
        "B = np.array([[-2, 1], [1, 1]])\r\n",
        "\r\n",
        "# x_dot from state space\r\n",
        "def StateSpace(x, t):\r\n",
        "    return A.dot(x)\r\n",
        "\r\n",
        "time = np.linspace(0, 1, 1000)   \r\n",
        "x0 = np.random.rand(n)  # initial state\r\n",
        "\r\n",
        "solution = {\"SS\": odeint(StateSpace, x0, time)}\r\n",
        "\r\n",
        "#desired eigenvalues\r\n",
        "poles = np.array([-1, -2])\r\n",
        "place_obj = place_poles(A, B, poles)\r\n",
        "\r\n",
        "#found control gains\r\n",
        "K = place_obj.gain_matrix;\r\n",
        "print(\"K:\", K)\r\n",
        "\r\n",
        "#test that eigenvalues of the closed loop system are what they are supposed to be \r\n",
        "e, v = eig((A - B.dot(K)))\r\n",
        "print(\"eigenvalues of A - B*K:\", e)"
      ],
      "execution_count": 13,
      "outputs": [
        {
          "output_type": "stream",
          "text": [
            "K: [[-0.33333333 13.        ]\n",
            " [ 1.33333333 18.        ]]\n",
            "eigenvalues of A - B*K: [-2. -1.]\n"
          ],
          "name": "stdout"
        }
      ]
    },
    {
      "cell_type": "code",
      "metadata": {
        "colab": {
          "base_uri": "https://localhost:8080/",
          "height": 296
        },
        "id": "Ch7PyyFT-Nx1",
        "outputId": "a36623ed-a699-4479-8210-6440fba5dcb3"
      },
      "source": [
        "from scipy.integrate import odeint\r\n",
        "import matplotlib.pyplot as plt\r\n",
        "\r\n",
        "def LTI(x, t):\r\n",
        "    return (A - B.dot(K)).dot(x)\r\n",
        "\r\n",
        "time = np.linspace(0, 10, 1000)    # interval from 0 to 10\r\n",
        "x0 = np.array([1, 1])          # initial state\r\n",
        "\r\n",
        "solution = odeint(LTI, x0, time)\r\n",
        "\r\n",
        "plt.plot(time, solution)\r\n",
        "plt.xlabel('time')\r\n",
        "plt.ylabel('x(t)')"
      ],
      "execution_count": 14,
      "outputs": [
        {
          "output_type": "execute_result",
          "data": {
            "text/plain": [
              "Text(0, 0.5, 'x(t)')"
            ]
          },
          "metadata": {
            "tags": []
          },
          "execution_count": 14
        },
        {
          "output_type": "display_data",
          "data": {
            "image/png": "[encoded data removed]",
            "text/plain": [
              "<Figure size 432x288 with 1 Axes>"
            ]
          },
          "metadata": {
            "tags": [],
            "needs_background": "light"
          }
        }
      ]
    },
    {
      "cell_type": "markdown",
      "metadata": {
        "id": "3vs8dNag-l_c"
      },
      "source": [
        "* c) $$\\dot x = \r\n",
        "\\begin{pmatrix} 2 & 2 \\\\ -6 & 10\r\n",
        "\\end{pmatrix}\r\n",
        "x\r\n",
        "+\r\n",
        "\\begin{pmatrix} \r\n",
        "0 & -1 \\\\ 5 & -1\r\n",
        "\\end{pmatrix}\r\n",
        "u\r\n",
        "$$"
      ]
    },
    {
      "cell_type": "markdown",
      "metadata": {
        "id": "rphbZgHVH8jh"
      },
      "source": [
        "Same steps as in 1.2a"
      ]
    },
    {
      "cell_type": "code",
      "metadata": {
        "colab": {
          "base_uri": "https://localhost:8080/"
        },
        "id": "YWXz9QTj-oO_",
        "outputId": "60985325-7438-4cdd-9ade-9d32d2052e15"
      },
      "source": [
        "import numpy as np\r\n",
        "from numpy.linalg import eig\r\n",
        "from scipy.integrate import odeint\r\n",
        "from scipy.signal import place_poles\r\n",
        "\r\n",
        "n = 2\r\n",
        "A = np.array([[2, 2], [-6, 10]])\r\n",
        "B = np.array([[0, -1], [5, -1]])\r\n",
        "\r\n",
        "# x_dot from state space\r\n",
        "def StateSpace(x, t):\r\n",
        "    return A.dot(x)\r\n",
        "\r\n",
        "time = np.linspace(0, 1, 1000)   \r\n",
        "x0 = np.random.rand(n)  # initial state\r\n",
        "\r\n",
        "solution = {\"SS\": odeint(StateSpace, x0, time)}\r\n",
        "\r\n",
        "#desired eigenvalues\r\n",
        "poles = np.array([-1, -2])\r\n",
        "place_obj = place_poles(A, B, poles)\r\n",
        "\r\n",
        "#found control gains\r\n",
        "K = place_obj.gain_matrix;\r\n",
        "print(\"K:\", K)\r\n",
        "\r\n",
        "#test that eigenvalues of the closed loop system are what they are supposed to be \r\n",
        "e, v = eig((A - B.dot(K)))\r\n",
        "print(\"eigenvalues of A - B*K:\", e)"
      ],
      "execution_count": 15,
      "outputs": [
        {
          "output_type": "stream",
          "text": [
            "K: [[-2.   1.8]\n",
            " [-4.  -2. ]]\n",
            "eigenvalues of A - B*K: [-2. -1.]\n"
          ],
          "name": "stdout"
        }
      ]
    },
    {
      "cell_type": "code",
      "metadata": {
        "colab": {
          "base_uri": "https://localhost:8080/",
          "height": 296
        },
        "id": "1BSkMy1I-uuf",
        "outputId": "9221924d-d258-4f7b-c86b-bbea27c630c2"
      },
      "source": [
        "from scipy.integrate import odeint\r\n",
        "import matplotlib.pyplot as plt\r\n",
        "\r\n",
        "def LTI(x, t):\r\n",
        "    return (A - B.dot(K)).dot(x)\r\n",
        "\r\n",
        "time = np.linspace(0, 1, 1000)    # interval from 0 to 10\r\n",
        "x0 = np.array([1, 1])          # initial state\r\n",
        "\r\n",
        "solution = odeint(LTI, x0, time)\r\n",
        "\r\n",
        "plt.plot(time, solution)\r\n",
        "plt.xlabel('time')\r\n",
        "plt.ylabel('x(t)')"
      ],
      "execution_count": 16,
      "outputs": [
        {
          "output_type": "execute_result",
          "data": {
            "text/plain": [
              "Text(0, 0.5, 'x(t)')"
            ]
          },
          "metadata": {
            "tags": []
          },
          "execution_count": 16
        },
        {
          "output_type": "display_data",
          "data": {
            "image/png": "[encoded data removed]",
            "text/plain": [
              "<Figure size 432x288 with 1 Axes>"
            ]
          },
          "metadata": {
            "tags": [],
            "needs_background": "light"
          }
        }
      ]
    },
    {
      "cell_type": "markdown",
      "metadata": {
        "id": "HZF6Fsq29D0z"
      },
      "source": [
        "* d) $$\\dot x = \r\n",
        "\\begin{pmatrix} 5 & -5 \\\\ 6 & 15\r\n",
        "\\end{pmatrix}\r\n",
        "x\r\n",
        "+\r\n",
        "\\begin{pmatrix} \r\n",
        "-10 & 3 \\\\ 10 & 3\r\n",
        "\\end{pmatrix}\r\n",
        "u\r\n",
        "$$"
      ]
    },
    {
      "cell_type": "code",
      "metadata": {
        "colab": {
          "base_uri": "https://localhost:8080/"
        },
        "id": "fOEXxUe85S0I",
        "outputId": "c04d72fb-ca9e-4448-b65c-881700977eff"
      },
      "source": [
        "import numpy as np\r\n",
        "from numpy.linalg import eig\r\n",
        "from scipy.integrate import odeint\r\n",
        "from scipy.signal import place_poles\r\n",
        "\r\n",
        "n = 2\r\n",
        "A = np.array([[5, -5], [6, 15]])\r\n",
        "B = np.array([[-10, 3], [10, 3]])\r\n",
        "\r\n",
        "# x_dot from state space\r\n",
        "def StateSpace(x, t):\r\n",
        "    return A.dot(x)\r\n",
        "\r\n",
        "time = np.linspace(0, 1, 1000)   \r\n",
        "x0 = np.random.rand(n)  # initial state\r\n",
        "\r\n",
        "solution = {\"SS\": odeint(StateSpace, x0, time)}\r\n",
        "\r\n",
        "#desired eigenvalues\r\n",
        "poles = np.array([-1, -2])\r\n",
        "place_obj = place_poles(A, B, poles)\r\n",
        "\r\n",
        "#found control gains\r\n",
        "K = place_obj.gain_matrix;\r\n",
        "print(\"K:\", K)\r\n",
        "\r\n",
        "#test that eigenvalues of the closed loop system are what they are supposed to be \r\n",
        "e, v = eig((A - B.dot(K)))\r\n",
        "print(\"eigenvalues of A - B*K:\", e)"
      ],
      "execution_count": 17,
      "outputs": [
        {
          "output_type": "stream",
          "text": [
            "K: [[-0.05        1.05      ]\n",
            " [ 2.16666667  1.83333333]]\n",
            "eigenvalues of A - B*K: [-2. -1.]\n"
          ],
          "name": "stdout"
        }
      ]
    },
    {
      "cell_type": "code",
      "metadata": {
        "colab": {
          "base_uri": "https://localhost:8080/",
          "height": 296
        },
        "id": "SmA41woS5okt",
        "outputId": "fc7265e7-e606-4e0f-fa65-c4332470d362"
      },
      "source": [
        "from scipy.integrate import odeint\r\n",
        "import matplotlib.pyplot as plt\r\n",
        "\r\n",
        "def LTI(x, t):\r\n",
        "    return (A - B.dot(K)).dot(x)\r\n",
        "\r\n",
        "time = np.linspace(0, 1, 1000)    # interval from 0 to 10\r\n",
        "x0 = np.array([1, 1])          # initial state\r\n",
        "\r\n",
        "solution = odeint(LTI, x0, time)\r\n",
        "\r\n",
        "plt.plot(time, solution)\r\n",
        "plt.xlabel('time')\r\n",
        "plt.ylabel('x(t)')"
      ],
      "execution_count": 18,
      "outputs": [
        {
          "output_type": "execute_result",
          "data": {
            "text/plain": [
              "Text(0, 0.5, 'x(t)')"
            ]
          },
          "metadata": {
            "tags": []
          },
          "execution_count": 18
        },
        {
          "output_type": "display_data",
          "data": {
            "image/png": "[encoded data removed]",
            "text/plain": [
              "<Figure size 432x288 with 1 Axes>"
            ]
          },
          "metadata": {
            "tags": [],
            "needs_background": "light"
          }
        }
      ]
    },
    {
      "cell_type": "markdown",
      "metadata": {
        "id": "mh4wKwcY6GXh"
      },
      "source": [
        "## Task 1.3 Give example of an unstable system that cannot be stabilized\r\n",
        "of the form $\\dot x = \r\n",
        "Ax+Bu$, where $A \\in \\mathbb{R}^{2 \\times 2}$\r\n",
        "\r\n",
        "* a) where $B \\in \\mathbb{R}^{2 \\times 1}$\r\n",
        "\r\n",
        "$$\\dot x = \r\n",
        "\\begin{pmatrix} -5 & 0 \\\\ -0.1 & 1\r\n",
        "\\end{pmatrix}\r\n",
        "x\r\n",
        "+\r\n",
        "\\begin{pmatrix} \r\n",
        "0 \\\\ 0.5\r\n",
        "\\end{pmatrix}\r\n",
        "u\r\n",
        "$$"
      ]
    },
    {
      "cell_type": "markdown",
      "metadata": {
        "id": "J7hmWmjgXa6n"
      },
      "source": [
        "* b) where $B \\in \\mathbb{R}^{2 \\times 2}$\r\n",
        "$$\\dot x = \r\n",
        "\\begin{pmatrix} 4 & 0 \\\\ -10 & 1\r\n",
        "\\end{pmatrix}\r\n",
        "x\r\n",
        "+\r\n",
        "\\begin{pmatrix} \r\n",
        "0 & 1 \\\\ 0 & 1\r\n",
        "\\end{pmatrix}\r\n",
        "u\r\n",
        "$$"
      ]
    },
    {
      "cell_type": "markdown",
      "metadata": {
        "id": "HsxBSgNxXcFg"
      },
      "source": [
        "* c) where $B \\in \\mathbb{R}^{2 \\times 3}$\r\n",
        "$$\\dot x = \r\n",
        "\\begin{pmatrix} -7 & 0 \\\\ 5 & 1\r\n",
        "\\end{pmatrix}\r\n",
        "x\r\n",
        "+\r\n",
        "\\begin{pmatrix} \r\n",
        "0 & 1 & 2 \\\\ 0 & 1 & 2\r\n",
        "\\end{pmatrix}\r\n",
        "u\r\n",
        "$$"
      ]
    },
    {
      "cell_type": "markdown",
      "metadata": {
        "id": "8N7hXG6Av08-"
      },
      "source": [
        "# Task 2 Root Locus"
      ]
    },
    {
      "cell_type": "markdown",
      "metadata": {
        "id": "52sFKgGav7ri"
      },
      "source": [
        "## Task 2.1 Plot root locus\r\n",
        "\r\n",
        "* a) For a system with $A$ with imaginary eigenvalues\r\n",
        "\r\n",
        "$$\\dot x = \r\n",
        "\\begin{pmatrix} 5 & -5 \\\\ 6 & 15\r\n",
        "\\end{pmatrix}\r\n",
        "x\r\n",
        "+\r\n",
        "\\begin{pmatrix} \r\n",
        "-10 \\\\ 10\r\n",
        "\\end{pmatrix}\r\n",
        "u\r\n",
        "$$"
      ]
    },
    {
      "cell_type": "code",
      "metadata": {
        "colab": {
          "base_uri": "https://localhost:8080/",
          "height": 313
        },
        "id": "zL472nD5wrwC",
        "outputId": "3a3fa666-06d6-4673-bdcb-bb57113b5d00"
      },
      "source": [
        "import matplotlib.pyplot as plt\r\n",
        "import numpy as np\r\n",
        "from numpy.linalg import eig\r\n",
        "\r\n",
        "A = np.array([[5, -5], [6, 15]])\r\n",
        "B = np.array([[-10], [10]])\r\n",
        "K0 = np.array([[1, 3]]);\r\n",
        "\r\n",
        "eigen, v = eig(A)\r\n",
        "\r\n",
        "print(\"eigenvalues of A:\", eigen)\r\n",
        "\r\n",
        "k_min = 1;\r\n",
        "k_max = 10;\r\n",
        "k_step = 0.1;\r\n",
        "\r\n",
        "Count = np.floor((k_max-k_min)/k_step)\r\n",
        "Count = Count.astype(int)\r\n",
        "\r\n",
        "k_range = np.linspace(k_min, k_max, Count)\r\n",
        "\r\n",
        "E = np.zeros((Count, 4))\r\n",
        "\r\n",
        "for i in range(Count):\r\n",
        "    K0[0, 0] = k_range[i]\r\n",
        "\r\n",
        "    ei, v = eig((A - B.dot(K0)))\r\n",
        "\r\n",
        "    E[i, 0] = np.real(ei[0])\r\n",
        "    E[i, 1] = np.imag(ei[0])\r\n",
        "    E[i, 2] = np.real(ei[1])\r\n",
        "    E[i, 3] = np.imag(ei[1])\r\n",
        "\r\n",
        "print(\"eigenvalues of A - B*K:\", ei)\r\n",
        "\r\n",
        "plt.plot(E[:, 0], E[:, 1])\r\n",
        "plt.plot(E[:, 2], E[:, 3])\r\n",
        "plt.xlabel('real')\r\n",
        "plt.ylabel('imag')\r\n",
        "plt.show()"
      ],
      "execution_count": 20,
      "outputs": [
        {
          "output_type": "stream",
          "text": [
            "eigenvalues of A: [10.+2.23606798j 10.-2.23606798j]\n",
            "eigenvalues of A - B*K: [80.35533906  9.64466094]\n"
          ],
          "name": "stdout"
        },
        {
          "output_type": "display_data",
          "data": {
            "image/png": "[encoded data removed]",
            "text/plain": [
              "<Figure size 432x288 with 1 Axes>"
            ]
          },
          "metadata": {
            "tags": [],
            "needs_background": "light"
          }
        }
      ]
    },
    {
      "cell_type": "markdown",
      "metadata": {
        "id": "n46l-s2bzFjK"
      },
      "source": [
        "* b) For a system with $A$ with real eigenvalues\r\n",
        "\r\n",
        "$$\\dot x = \r\n",
        "\\begin{pmatrix} 1 & -3 \\\\ 6 & 12\r\n",
        "\\end{pmatrix}\r\n",
        "x\r\n",
        "+\r\n",
        "\\begin{pmatrix} \r\n",
        "-1 \\\\ 2\r\n",
        "\\end{pmatrix}\r\n",
        "u\r\n",
        "$$"
      ]
    },
    {
      "cell_type": "code",
      "metadata": {
        "colab": {
          "base_uri": "https://localhost:8080/",
          "height": 313
        },
        "id": "lFy3GIjf0ZhC",
        "outputId": "23b92a2a-ecd1-42f6-e9e6-4432cb99c291"
      },
      "source": [
        "import matplotlib.pyplot as plt\r\n",
        "import numpy as np\r\n",
        "from numpy.linalg import eig\r\n",
        "\r\n",
        "A = np.array([[1, -3], [6, 12]])\r\n",
        "B = np.array([[-1], [2]])\r\n",
        "K0 = np.array([[3, -3]]);\r\n",
        "\r\n",
        "eigen, v = eig(A)\r\n",
        "\r\n",
        "print(\"eigenvalues of A:\", eigen)\r\n",
        "\r\n",
        "k_min = 1;\r\n",
        "k_max = 10;\r\n",
        "k_step = 0.1;\r\n",
        "\r\n",
        "Count = np.floor((k_max-k_min)/k_step)\r\n",
        "Count = Count.astype(int)\r\n",
        "\r\n",
        "k_range = np.linspace(k_min, k_max, Count)\r\n",
        "\r\n",
        "E = np.zeros((Count, 4))\r\n",
        "\r\n",
        "for i in range(Count):\r\n",
        "    K0[0, 0] = k_range[i]\r\n",
        "\r\n",
        "    ei, v = eig((A - B.dot(K0)))\r\n",
        "\r\n",
        "    E[i, 0] = np.real(ei[0])\r\n",
        "    E[i, 1] = np.imag(ei[0])\r\n",
        "    E[i, 2] = np.real(ei[1])\r\n",
        "    E[i, 3] = np.imag(ei[1])\r\n",
        "\r\n",
        "print(\"eigenvalues of A - B*K:\", ei)\r\n",
        "\r\n",
        "plt.plot(E[:, 0], E[:, 1])\r\n",
        "plt.plot(E[:, 2], E[:, 3])\r\n",
        "plt.xlabel('real')\r\n",
        "plt.ylabel('imag')\r\n",
        "plt.show()"
      ],
      "execution_count": 22,
      "outputs": [
        {
          "output_type": "stream",
          "text": [
            "eigenvalues of A: [ 3. 10.]\n",
            "eigenvalues of A - B*K: [ 4.68929156 24.31070844]\n"
          ],
          "name": "stdout"
        },
        {
          "output_type": "display_data",
          "data": {
            "image/png": "[encoded data removed]",
            "text/plain": [
              "<Figure size 432x288 with 1 Axes>"
            ]
          },
          "metadata": {
            "tags": [],
            "needs_background": "light"
          }
        }
      ]
    },
    {
      "cell_type": "markdown",
      "metadata": {
        "id": "XD1nyJu90sOd"
      },
      "source": [
        "* c) For a system where real parts of eigenvalues of $(A - BK)$ are all positive\r\n",
        "\r\n",
        "$$\\dot x = \r\n",
        "\\begin{pmatrix} 2 & 5 \\\\ 6 & 3\r\n",
        "\\end{pmatrix}\r\n",
        "x\r\n",
        "+\r\n",
        "\\begin{pmatrix} \r\n",
        "-1 \\\\ 2\r\n",
        "\\end{pmatrix}\r\n",
        "u\r\n",
        "$$"
      ]
    },
    {
      "cell_type": "code",
      "metadata": {
        "colab": {
          "base_uri": "https://localhost:8080/",
          "height": 299
        },
        "id": "ouWnBQ0e06BP",
        "outputId": "c86935a4-7f30-46ba-e6f8-ee05e80c2684"
      },
      "source": [
        "import matplotlib.pyplot as plt\r\n",
        "import numpy as np\r\n",
        "from numpy.linalg import eig\r\n",
        "\r\n",
        "A = np.array([[2, 5], [6, 3]])\r\n",
        "B = np.array([[-1], [2]])\r\n",
        "K0 = np.array([[1, 4]]);\r\n",
        "\r\n",
        "k_min = 1;\r\n",
        "k_max = 10;\r\n",
        "k_step = 0.1;\r\n",
        "\r\n",
        "Count = np.floor((k_max-k_min)/k_step)\r\n",
        "Count = Count.astype(int)\r\n",
        "\r\n",
        "k_range = np.linspace(k_min, k_max, Count)\r\n",
        "\r\n",
        "E = np.zeros((Count, 4))\r\n",
        "\r\n",
        "for i in range(Count):\r\n",
        "    K0[0, 0] = k_range[i]\r\n",
        "\r\n",
        "    ei, v = eig((A - B.dot(K0)))\r\n",
        "\r\n",
        "    E[i, 0] = np.real(ei[0])\r\n",
        "    E[i, 1] = np.imag(ei[0])\r\n",
        "    E[i, 2] = np.real(ei[1])\r\n",
        "    E[i, 3] = np.imag(ei[1])\r\n",
        "\r\n",
        "print(\"eigenvalues of A - B*K:\", ei)\r\n",
        "\r\n",
        "plt.plot(E[:, 0], E[:, 1])\r\n",
        "plt.plot(E[:, 2], E[:, 3])\r\n",
        "plt.xlabel('real')\r\n",
        "plt.ylabel('imag')\r\n",
        "plt.show()"
      ],
      "execution_count": 24,
      "outputs": [
        {
          "output_type": "stream",
          "text": [
            "eigenvalues of A - B*K: [3.5+7.33143915j 3.5-7.33143915j]\n"
          ],
          "name": "stdout"
        },
        {
          "output_type": "display_data",
          "data": {
            "image/png": "[encoded data removed]",
            "text/plain": [
              "<Figure size 432x288 with 1 Axes>"
            ]
          },
          "metadata": {
            "tags": [],
            "needs_background": "light"
          }
        }
      ]
    },
    {
      "cell_type": "markdown",
      "metadata": {
        "id": "8aFvV_wk1afM"
      },
      "source": [
        "* d) For a system where real parts of eigenvalues of $(A - BK)$ are all negative\r\n",
        "\r\n",
        "$$\\dot x = \r\n",
        "\\begin{pmatrix} -2 & -5 \\\\ -7 & 3\r\n",
        "\\end{pmatrix}\r\n",
        "x\r\n",
        "+\r\n",
        "\\begin{pmatrix} \r\n",
        "1 \\\\ -2\r\n",
        "\\end{pmatrix}\r\n",
        "u\r\n",
        "$$"
      ]
    },
    {
      "cell_type": "code",
      "metadata": {
        "colab": {
          "base_uri": "https://localhost:8080/",
          "height": 296
        },
        "id": "dnvd42qC1qnF",
        "outputId": "565f51c3-3f11-48bc-8766-986d14e7e6af"
      },
      "source": [
        "import matplotlib.pyplot as plt\r\n",
        "import numpy as np\r\n",
        "from numpy.linalg import eig\r\n",
        "\r\n",
        "A = np.array([[-2, -5], [-7, -3]])\r\n",
        "B = np.array([[1], [-2]])\r\n",
        "K0 = np.array([[5, -3]]);\r\n",
        "\r\n",
        "k_min = 1;\r\n",
        "k_max = 10;\r\n",
        "k_step = 0.1;\r\n",
        "\r\n",
        "Count = np.floor((k_max-k_min)/k_step)\r\n",
        "Count = Count.astype(int)\r\n",
        "\r\n",
        "k_range = np.linspace(k_min, k_max, Count)\r\n",
        "\r\n",
        "E = np.zeros((Count, 4))\r\n",
        "\r\n",
        "for i in range(Count):\r\n",
        "    K0[0, 0] = k_range[i]\r\n",
        "\r\n",
        "    ei, v = eig((A - B.dot(K0)))\r\n",
        "\r\n",
        "    E[i, 0] = np.real(ei[0])\r\n",
        "    E[i, 1] = np.imag(ei[0])\r\n",
        "    E[i, 2] = np.real(ei[1])\r\n",
        "    E[i, 3] = np.imag(ei[1])\r\n",
        "\r\n",
        "print(\"eigenvalues of A - B*K:\", ei)\r\n",
        "\r\n",
        "plt.plot(E[:, 0], E[:, 1])\r\n",
        "plt.plot(E[:, 2], E[:, 3])\r\n",
        "plt.xlabel('real')\r\n",
        "plt.ylabel('imag')\r\n",
        "plt.show()"
      ],
      "execution_count": 29,
      "outputs": [
        {
          "output_type": "stream",
          "text": [
            "eigenvalues of A - B*K: [-10.5+4.87339717j -10.5-4.87339717j]\n"
          ],
          "name": "stdout"
        },
        {
          "output_type": "display_data",
          "data": {
            "image/png": "[encoded data removed]",
            "text/plain": [
              "<Figure size 432x288 with 1 Axes>"
            ]
          },
          "metadata": {
            "tags": [],
            "needs_background": "light"
          }
        }
      ]
    },
    {
      "cell_type": "markdown",
      "metadata": {
        "id": "Z_Ennofc2jBd"
      },
      "source": [
        "# Reaction to inputs"
      ]
    },
    {
      "cell_type": "markdown",
      "metadata": {
        "id": "1K-qpzS-2UE9"
      },
      "source": [
        "# Task 3 Step functions"
      ]
    },
    {
      "cell_type": "markdown",
      "metadata": {
        "id": "FpttNS0Y2tN8"
      },
      "source": [
        "## Task 3.1 Simulate the first system of (1.1) with a step function as an input.\r\n",
        "\r\n",
        "$$\\dot x = \r\n",
        "\\begin{pmatrix} 10 & 0 \\\\ -5 & 10\r\n",
        "\\end{pmatrix}\r\n",
        "x\r\n",
        "+\r\n",
        "\\begin{pmatrix} \r\n",
        "2 \\\\ 0\r\n",
        "\\end{pmatrix}\r\n",
        "u\r\n",
        "$$\r\n",
        "\r\n",
        "$$ f_1 = \r\n",
        "\\begin{cases} \r\n",
        "1, \\ \\ \\ t \\geq t_1 \\\\\r\n",
        "0, \\ \\ \\ t < t_1\r\n",
        "\\end{cases} \r\n",
        "$$"
      ]
    },
    {
      "cell_type": "code",
      "metadata": {
        "id": "6APmphLpoNWG",
        "colab": {
          "base_uri": "https://localhost:8080/",
          "height": 341
        },
        "outputId": "c50b0d89-4904-4188-930f-e0dac42a9f64"
      },
      "source": [
        "import numpy as np\r\n",
        "from numpy.linalg import eig\r\n",
        "from scipy.integrate import odeint\r\n",
        "from scipy.signal import place_poles\r\n",
        "\r\n",
        "n = 2\r\n",
        "A = np.array([[10, 0], [-5, 10]])\r\n",
        "B = np.array([[2], [0]])\r\n",
        "\r\n",
        "#desired eigenvalues\r\n",
        "poles = np.array([-3, -2])\r\n",
        "place_obj = place_poles(A, B, poles)\r\n",
        "\r\n",
        "#found control gains\r\n",
        "K = place_obj.gain_matrix;\r\n",
        "print(\"K:\", K)\r\n",
        "\r\n",
        "#test that eigenvalues of the closed loop system are what they are supposed to be \r\n",
        "e, v = eig((A - B.dot(K)))\r\n",
        "print(\"eigenvalues of A - B*K:\", e)\r\n",
        "\r\n",
        "import matplotlib.pyplot as plt\r\n",
        "\r\n",
        "def system_ode(x, t, A, B):\r\n",
        "    if t < 10: \r\n",
        "      dx = A.dot(x) \r\n",
        "    else: \r\n",
        "      dx = (A - B.dot(K)).dot(x)\r\n",
        "    return dx\r\n",
        "\r\n",
        "\r\n",
        "time = np.linspace(0, 50, 1000)    # interval from 0 to 10\r\n",
        "x0 = np.array([1, 1])          # initial state\r\n",
        "\r\n",
        "solution = odeint(system_ode, x0, time, args=(A, B,))\r\n",
        "\r\n",
        "plt.plot(time, solution)\r\n",
        "plt.xlabel('time')\r\n",
        "plt.ylabel('x(t)')"
      ],
      "execution_count": 30,
      "outputs": [
        {
          "output_type": "stream",
          "text": [
            "K: [[ 12.5 -15.6]]\n",
            "eigenvalues of A - B*K: [-3. -2.]\n"
          ],
          "name": "stdout"
        },
        {
          "output_type": "execute_result",
          "data": {
            "text/plain": [
              "Text(0, 0.5, 'x(t)')"
            ]
          },
          "metadata": {
            "tags": []
          },
          "execution_count": 30
        },
        {
          "output_type": "display_data",
          "data": {
            "image/png": "[encoded data removed]",
            "text/plain": [
              "<Figure size 432x288 with 1 Axes>"
            ]
          },
          "metadata": {
            "tags": [],
            "needs_background": "light"
          }
        }
      ]
    },
    {
      "cell_type": "markdown",
      "metadata": {
        "id": "dMbftFd83vEk"
      },
      "source": [
        "## Task 3.2 Linear combination of solutions\r\n",
        "Simulate the first system of (1.1) with two different step functions $f_1$,  $f_2$ as an input, and with $f_1+f_2$ as an input. Compare the solutions for $f_1$,  $f_2$ with the solution for $f_1+f_2$.\r\n",
        "\r\n",
        "$$\\dot x = \r\n",
        "\\begin{pmatrix} 10 & 0 \\\\ -5 & 10\r\n",
        "\\end{pmatrix}\r\n",
        "x\r\n",
        "+\r\n",
        "\\begin{pmatrix} \r\n",
        "2 \\\\ 0\r\n",
        "\\end{pmatrix}\r\n",
        "u\r\n",
        "$$\r\n",
        "\r\n",
        "$$ f_1 = \r\n",
        "\\begin{cases} \r\n",
        "1, \\ \\ \\ t \\geq t_1 \\\\\r\n",
        "0, \\ \\ \\ t < t_1\r\n",
        "\\end{cases} \r\n",
        "$$\r\n",
        "$$ f_2 = \r\n",
        "\\begin{cases} \r\n",
        "1, \\ \\ \\ t \\geq t_2 \\\\\r\n",
        "0, \\ \\ \\ t < t_2\r\n",
        "\\end{cases} \r\n",
        "$$"
      ]
    },
    {
      "cell_type": "code",
      "metadata": {
        "id": "riWpfunhoOEZ",
        "colab": {
          "base_uri": "https://localhost:8080/",
          "height": 324
        },
        "outputId": "74cfa56f-0503-49b7-a9ab-f6ee109a4e38"
      },
      "source": [
        "import numpy as np\r\n",
        "from numpy.linalg import eig\r\n",
        "from scipy.integrate import odeint\r\n",
        "from scipy.signal import place_poles\r\n",
        "\r\n",
        "n = 2\r\n",
        "A = np.array([[10, 0], [-5, 10]])\r\n",
        "B = np.array([[2], [0]])\r\n",
        "\r\n",
        "#desired eigenvalues\r\n",
        "poles = np.array([-3, -2])\r\n",
        "place_obj = place_poles(A, B, poles)\r\n",
        "\r\n",
        "#found control gains\r\n",
        "K = place_obj.gain_matrix;\r\n",
        "print(\"K:\", K)\r\n",
        "\r\n",
        "import matplotlib.pyplot as plt\r\n",
        "\r\n",
        "def system_ode_f1(x, t, A, B):\r\n",
        "    if t < 10: \r\n",
        "      dx = A.dot(x) \r\n",
        "    else: \r\n",
        "      dx = (A - B.dot(K)).dot(x)\r\n",
        "    return dx\r\n",
        "\r\n",
        "\r\n",
        "time = np.linspace(0, 50, 1000)    # interval from 0 to 10\r\n",
        "x0 = np.array([1, 1])          # initial state\r\n",
        "\r\n",
        "solution = odeint(system_ode_f1, x0, time, args=(A, B,))\r\n",
        "\r\n",
        "plt.plot(time, solution)\r\n",
        "plt.xlabel('time')\r\n",
        "plt.ylabel('x(t)')"
      ],
      "execution_count": 31,
      "outputs": [
        {
          "output_type": "stream",
          "text": [
            "K: [[ 12.5 -15.6]]\n"
          ],
          "name": "stdout"
        },
        {
          "output_type": "execute_result",
          "data": {
            "text/plain": [
              "Text(0, 0.5, 'x(t)')"
            ]
          },
          "metadata": {
            "tags": []
          },
          "execution_count": 31
        },
        {
          "output_type": "display_data",
          "data": {
            "image/png": "[encoded data removed]",
            "text/plain": [
              "<Figure size 432x288 with 1 Axes>"
            ]
          },
          "metadata": {
            "tags": [],
            "needs_background": "light"
          }
        }
      ]
    },
    {
      "cell_type": "code",
      "metadata": {
        "colab": {
          "base_uri": "https://localhost:8080/",
          "height": 324
        },
        "id": "JpEI3U-LY9BW",
        "outputId": "1eced0b4-31c6-4fa2-8856-667934d6a003"
      },
      "source": [
        "import numpy as np\r\n",
        "from numpy.linalg import eig\r\n",
        "from scipy.integrate import odeint\r\n",
        "from scipy.signal import place_poles\r\n",
        "\r\n",
        "n = 2\r\n",
        "A = np.array([[10, 0], [-5, 10]])\r\n",
        "B = np.array([[2], [0]])\r\n",
        "\r\n",
        "#desired eigenvalues\r\n",
        "poles = np.array([-3, -2])\r\n",
        "place_obj = place_poles(A, B, poles)\r\n",
        "\r\n",
        "#found control gains\r\n",
        "K = place_obj.gain_matrix;\r\n",
        "print(\"K:\", K)\r\n",
        "\r\n",
        "import matplotlib.pyplot as plt\r\n",
        "\r\n",
        "def system_ode_f2(x, t, A, B):\r\n",
        "    if t < 50: \r\n",
        "      dx = A.dot(x) \r\n",
        "    else: \r\n",
        "      dx = (A - B.dot(K)).dot(x)\r\n",
        "    return dx\r\n",
        "\r\n",
        "\r\n",
        "time = np.linspace(0, 100, 1000)    # interval from 0 to 10\r\n",
        "x0 = np.array([1, 1])          # initial state\r\n",
        "\r\n",
        "solution = odeint(system_ode_f2, x0, time, args=(A, B,))\r\n",
        "\r\n",
        "plt.plot(time, solution)\r\n",
        "plt.xlabel('time')\r\n",
        "plt.ylabel('x(t)')"
      ],
      "execution_count": 32,
      "outputs": [
        {
          "output_type": "stream",
          "text": [
            "K: [[ 12.5 -15.6]]\n"
          ],
          "name": "stdout"
        },
        {
          "output_type": "execute_result",
          "data": {
            "text/plain": [
              "Text(0, 0.5, 'x(t)')"
            ]
          },
          "metadata": {
            "tags": []
          },
          "execution_count": 32
        },
        {
          "output_type": "display_data",
          "data": {
            "image/png": "[encoded data removed]",
            "text/plain": [
              "<Figure size 432x288 with 1 Axes>"
            ]
          },
          "metadata": {
            "tags": [],
            "needs_background": "light"
          }
        }
      ]
    },
    {
      "cell_type": "code",
      "metadata": {
        "colab": {
          "base_uri": "https://localhost:8080/",
          "height": 313
        },
        "id": "pFK4ynehZFSM",
        "outputId": "de9afb75-6a22-47ca-f8e8-3e8bb8361c0b"
      },
      "source": [
        "import numpy as np\r\n",
        "from numpy.linalg import eig\r\n",
        "from scipy.integrate import odeint\r\n",
        "from scipy.signal import place_poles\r\n",
        "\r\n",
        "n = 2\r\n",
        "A = np.array([[10, 0], [-5, 10]])\r\n",
        "B = np.array([[2], [0]])\r\n",
        "\r\n",
        "#desired eigenvalues\r\n",
        "poles = np.array([-5, -2])\r\n",
        "place_obj = place_poles(A, B, poles)\r\n",
        "\r\n",
        "#found control gains\r\n",
        "K = place_obj.gain_matrix;\r\n",
        "print(\"K:\", K)\r\n",
        "\r\n",
        "import matplotlib.pyplot as plt\r\n",
        "\r\n",
        "def system_ode_f12(x, t, A, B):\r\n",
        "    if t < 10: \r\n",
        "      dx = A.dot(x) \r\n",
        "    if t>=50: \r\n",
        "      dx = (A - B.dot(K) - B.dot(K)).dot(x)\r\n",
        "    else: \r\n",
        "      dx = (A - B.dot(K)).dot(x)\r\n",
        "    return dx\r\n",
        "\r\n",
        "\r\n",
        "time = np.linspace(0, 100, 1000)    # interval from 0 to 10\r\n",
        "x0 = np.array([1, 1])          # initial state\r\n",
        "\r\n",
        "solution = odeint(system_ode_f12, x0, time, args=(A, B))\r\n",
        "\r\n",
        "plt.plot(time, solution)\r\n",
        "plt.xlabel('time')\r\n",
        "plt.ylabel('x(t)')"
      ],
      "execution_count": 33,
      "outputs": [
        {
          "output_type": "stream",
          "text": [
            "K: [[ 13.5 -18. ]]\n"
          ],
          "name": "stdout"
        },
        {
          "output_type": "execute_result",
          "data": {
            "text/plain": [
              "Text(0, 0.5, 'x(t)')"
            ]
          },
          "metadata": {
            "tags": []
          },
          "execution_count": 33
        },
        {
          "output_type": "display_data",
          "data": {
            "image/png": "[encoded data removed]",
            "text/plain": [
              "<Figure size 432x288 with 1 Axes>"
            ]
          },
          "metadata": {
            "tags": [],
            "needs_background": "light"
          }
        }
      ]
    },
    {
      "cell_type": "markdown",
      "metadata": {
        "id": "x_MmEP_94xFS"
      },
      "source": [
        "# Task 4 Sinusoidal input\r\n",
        "\r\n"
      ]
    },
    {
      "cell_type": "markdown",
      "metadata": {
        "id": "iE6aQGds6Iop"
      },
      "source": [
        "## Taks 4.1 Simulate the first system of (1.1) with a sinusoidal input $u = sin(wt)$.\r\n",
        "\r\n",
        "How does the choice of $w$ affects the result?\r\n",
        "\r\n",
        "$$\\dot x = \r\n",
        "\\begin{pmatrix} 10 & 0 \\\\ -5 & 10\r\n",
        "\\end{pmatrix}\r\n",
        "x\r\n",
        "+\r\n",
        "\\begin{pmatrix} \r\n",
        "2 \\\\ 0\r\n",
        "\\end{pmatrix}\r\n",
        "u\r\n",
        "$$"
      ]
    },
    {
      "cell_type": "code",
      "metadata": {
        "id": "y1IiMHKw5eAs",
        "colab": {
          "base_uri": "https://localhost:8080/",
          "height": 350
        },
        "outputId": "0b252484-5d87-4abd-b7ca-a8ffc9a2a4f8"
      },
      "source": [
        "\r\n",
        "\r\n",
        "from scipy.signal import ss2tf\r\n",
        "from scipy.signal import freqz\r\n",
        "import matplotlib.pyplot as plt\r\n",
        "import numpy as np\r\n",
        "from numpy.linalg import eig\r\n",
        "\r\n",
        "\r\n",
        "A = np.array([[10, 0], [-5, 10]])\r\n",
        "B = np.array([[2], [0]])\r\n",
        "C = np.eye(2)\r\n",
        "D = np.zeros((2, 1))\r\n",
        "\r\n",
        "num, den = ss2tf(A, B, C, D)\r\n",
        "\r\n",
        "print(\"num:\", num)\r\n",
        "print(\"den:\", den)\r\n",
        "\r\n",
        "w1, h1 = freqz(num[0, :], den)\r\n",
        "w2, h2 = freqz(num[1, :], den)\r\n",
        "\r\n",
        "plt.subplot(211)\r\n",
        "plt.plot(w1, 20 * np.log10(abs(h1)), 'b')\r\n",
        "plt.ylabel('Amplitude [dB]', color='b')\r\n",
        "plt.xlabel('Frequency [rad/sample]')\r\n",
        "\r\n",
        "plt.subplot(212)\r\n",
        "plt.plot(w2, 20 * np.log10(abs(h2)), 'b')\r\n",
        "plt.ylabel('Amplitude [dB]', color='b')\r\n",
        "plt.xlabel('Frequency [rad/sample]')"
      ],
      "execution_count": 34,
      "outputs": [
        {
          "output_type": "stream",
          "text": [
            "num: [[  0.   2. -20.]\n",
            " [  0.   0. -10.]]\n",
            "den: [  1. -20. 100.]\n"
          ],
          "name": "stdout"
        },
        {
          "output_type": "execute_result",
          "data": {
            "text/plain": [
              "Text(0.5, 0, 'Frequency [rad/sample]')"
            ]
          },
          "metadata": {
            "tags": []
          },
          "execution_count": 34
        },
        {
          "output_type": "display_data",
          "data": {
            "image/png": "[encoded data removed]",
            "text/plain": [
              "<Figure size 432x288 with 2 Axes>"
            ]
          },
          "metadata": {
            "tags": [],
            "needs_background": "light"
          }
        }
      ]
    },
    {
      "cell_type": "markdown",
      "metadata": {
        "id": "np8BwMsu6Ejv"
      },
      "source": [
        "## Task 4.2 Make frequency diagrams for 2 of the systems you studied in the tasks 1.1 and 1.2\r\n",
        "\r\n",
        "Using task 1.1 for reference: \r\n",
        "* a) $$\\dot x = \r\n",
        "\\begin{pmatrix} 0 & -8 \\\\ 1 & 30\r\n",
        "\\end{pmatrix}\r\n",
        "x\r\n",
        "+\r\n",
        "\\begin{pmatrix} \r\n",
        "2 \\\\ 0\r\n",
        "\\end{pmatrix}\r\n",
        "u\r\n",
        "$$"
      ]
    },
    {
      "cell_type": "code",
      "metadata": {
        "colab": {
          "base_uri": "https://localhost:8080/",
          "height": 347
        },
        "id": "nnNw3W8Zf93R",
        "outputId": "fb39db1c-e671-402a-b8a4-90a62d5d4068"
      },
      "source": [
        "from scipy.signal import ss2tf\r\n",
        "from scipy.signal import freqz\r\n",
        "import matplotlib.pyplot as plt\r\n",
        "import numpy as np\r\n",
        "from numpy.linalg import eig\r\n",
        "\r\n",
        "\r\n",
        "A = np.array([[0, -8], [1, 30]])\r\n",
        "B = np.array([[2], [0]])\r\n",
        "C = np.eye(2)\r\n",
        "D = np.zeros((2, 1))\r\n",
        "\r\n",
        "num, den = ss2tf(A, B, C, D)\r\n",
        "\r\n",
        "print(\"num:\", num)\r\n",
        "print(\"den:\", den)\r\n",
        "\r\n",
        "w1, h1 = freqz(num[0, :], den)\r\n",
        "w2, h2 = freqz(num[1, :], den)\r\n",
        "\r\n",
        "plt.subplot(211)\r\n",
        "plt.plot(w1, 20 * np.log10(abs(h1)), 'b')\r\n",
        "plt.ylabel('Amplitude [dB]', color='b')\r\n",
        "plt.xlabel('Frequency [rad/sample]')\r\n",
        "\r\n",
        "plt.subplot(212)\r\n",
        "plt.plot(w2, 20 * np.log10(abs(h2)), 'b')\r\n",
        "plt.ylabel('Amplitude [dB]', color='b')\r\n",
        "plt.xlabel('Frequency [rad/sample]')"
      ],
      "execution_count": 35,
      "outputs": [
        {
          "output_type": "stream",
          "text": [
            "num: [[  0.   2. -60.]\n",
            " [  0.   0.   2.]]\n",
            "den: [  1. -30.   8.]\n"
          ],
          "name": "stdout"
        },
        {
          "output_type": "execute_result",
          "data": {
            "text/plain": [
              "Text(0.5, 0, 'Frequency [rad/sample]')"
            ]
          },
          "metadata": {
            "tags": []
          },
          "execution_count": 35
        },
        {
          "output_type": "display_data",
          "data": {
            "image/png": "[encoded data removed]",
            "text/plain": [
              "<Figure size 432x288 with 2 Axes>"
            ]
          },
          "metadata": {
            "tags": [],
            "needs_background": "light"
          }
        }
      ]
    },
    {
      "cell_type": "markdown",
      "metadata": {
        "id": "g_un1GiLgtNr"
      },
      "source": [
        "Using task 1.2 for reference:\r\n",
        "* b) $$\\dot x = \r\n",
        "\\begin{pmatrix} 2 & 2 \\\\ -6 & 10\r\n",
        "\\end{pmatrix}\r\n",
        "x\r\n",
        "+\r\n",
        "\\begin{pmatrix} \r\n",
        "0 & -1 \\\\ 5 & -1\r\n",
        "\\end{pmatrix}\r\n",
        "u\r\n",
        "$$"
      ]
    },
    {
      "cell_type": "code",
      "metadata": {
        "colab": {
          "base_uri": "https://localhost:8080/",
          "height": 347
        },
        "id": "26HncKsNg3N_",
        "outputId": "0b2c88da-7a67-4149-fc6e-5db0232df479"
      },
      "source": [
        "from scipy.signal import ss2tf\r\n",
        "from scipy.signal import freqz\r\n",
        "import matplotlib.pyplot as plt\r\n",
        "import numpy as np\r\n",
        "from numpy.linalg import eig\r\n",
        "\r\n",
        "\r\n",
        "A = np.array([[2, 2], [-6, 10]])\r\n",
        "B = np.array([[0, -1], [5, -1]])\r\n",
        "C = np.eye(2)\r\n",
        "D = np.zeros((2, 2))\r\n",
        "\r\n",
        "num, den = ss2tf(A, B, C, D)\r\n",
        "\r\n",
        "print(\"num:\", num)\r\n",
        "print(\"den:\", den)\r\n",
        "\r\n",
        "w1, h1 = freqz(num[0, :], den)\r\n",
        "w2, h2 = freqz(num[1, :], den)\r\n",
        "\r\n",
        "plt.subplot(211)\r\n",
        "plt.plot(w1, 20 * np.log10(abs(h1)), 'b')\r\n",
        "plt.ylabel('Amplitude [dB]', color='b')\r\n",
        "plt.xlabel('Frequency [rad/sample]')\r\n",
        "\r\n",
        "plt.subplot(212)\r\n",
        "plt.plot(w2, 20 * np.log10(abs(h2)), 'b')\r\n",
        "plt.ylabel('Amplitude [dB]', color='b')\r\n",
        "plt.xlabel('Frequency [rad/sample]')"
      ],
      "execution_count": 36,
      "outputs": [
        {
          "output_type": "stream",
          "text": [
            "num: [[ 0.00000000e+00  1.77635684e-15  1.00000000e+01]\n",
            " [ 0.00000000e+00  5.00000000e+00 -1.00000000e+01]]\n",
            "den: [  1. -12.  32.]\n"
          ],
          "name": "stdout"
        },
        {
          "output_type": "execute_result",
          "data": {
            "text/plain": [
              "Text(0.5, 0, 'Frequency [rad/sample]')"
            ]
          },
          "metadata": {
            "tags": []
          },
          "execution_count": 36
        },
        {
          "output_type": "display_data",
          "data": {
            "image/png": "[encoded data removed]",
            "text/plain": [
              "<Figure size 432x288 with 2 Axes>"
            ]
          },
          "metadata": {
            "tags": [],
            "needs_background": "light"
          }
        }
      ]
    },
    {
      "cell_type": "markdown",
      "metadata": {
        "id": "rw6iJO7D6Y7h"
      },
      "source": [
        "#Task 5 Point to point control"
      ]
    },
    {
      "cell_type": "markdown",
      "metadata": {
        "id": "QAWUpSCT6b0i"
      },
      "source": [
        "## Task 5.1 Design point-to-point control and simulate two systems:\r\n",
        "\r\n",
        "* a) where $B \\in \\mathbb{R}^{2 \\times 1}$\r\n",
        "\r\n",
        "Let matrix $A = \\begin{bmatrix} 10 & 0 \\\\ -5 & 10 \\end{bmatrix}$, $B=\\begin{bmatrix} -2 \\\\ 1 \\end{bmatrix}$ and $x_{desired}=\\begin{bmatrix} 1 \\\\ 0 \\end{bmatrix}$. Also let us take poles $\\begin{bmatrix} -1 \\\\ -2 \\end{bmatrix}$. \\\r\n",
        "\\\r\n",
        "As per lectures, We define control as $$u = -K (x - x_{desired}) + u_{desired}$$ \r\n",
        "\\\r\n",
        "Also, we know that $\\dot x_{desired} = 0$, therefore: \r\n",
        "$$\\dot x_{desired} = Ax_{desired}+Bu_{desired}$$\r\n",
        "\\\r\n",
        "$$0 = \\begin{bmatrix} 10 & 0 \\\\ -5 & 10 \\end{bmatrix} \\begin{bmatrix} 1 \\\\ 0 \\end{bmatrix}+\\begin{bmatrix} -2 \\\\ 1 \\end{bmatrix} u_{desired}$$\r\n",
        "\\\r\n",
        "$$0=\\begin{bmatrix} 10 \\\\ -5 \\end{bmatrix} + \\begin{bmatrix} -2u_{desired} \\\\ u_{desired} \\end{bmatrix} \\Rightarrow u_{desired}=5$$\r\n",
        "\\\r\n",
        "Since we know poles, we can find matrix $K = \\begin{bmatrix} -4.9 & 13.2 \\end{bmatrix}$.\r\n",
        "\\\r\n",
        "\\\r\n",
        "The following code can help us to simulate the system. "
      ]
    },
    {
      "cell_type": "code",
      "metadata": {
        "colab": {
          "base_uri": "https://localhost:8080/"
        },
        "id": "TSVvv9pYlwCZ",
        "outputId": "63c66386-931a-4a6f-cc9e-73732d8efb1e"
      },
      "source": [
        "from numpy.linalg import eig\r\n",
        "from scipy.integrate import odeint\r\n",
        "from scipy.signal import place_poles\r\n",
        "import matplotlib.pyplot as plt\r\n",
        "import numpy as np\r\n",
        "\r\n",
        "A = np.array([[10, -0], [-5, 10]])\r\n",
        "B = np.array([[-2], [1]])\r\n",
        "\r\n",
        "#desired eigenvalues\r\n",
        "poles = np.array([-7, -2])\r\n",
        "place_obj = place_poles(A, B, poles)\r\n",
        "\r\n",
        "#found control gains\r\n",
        "K = place_obj.gain_matrix;\r\n",
        "print(\"K:\", K)\r\n",
        "\r\n",
        "#test that eigenvalues of the closed loop system are what they are supposed to be \r\n",
        "e, v = eig((A - B.dot(K)))\r\n",
        "print(\"eigenvalues of A - B*K:\", e)"
      ],
      "execution_count": 42,
      "outputs": [
        {
          "output_type": "stream",
          "text": [
            "K: [[-4.3 20.4]]\n",
            "eigenvalues of A - B*K: [-2. -7.]\n"
          ],
          "name": "stdout"
        }
      ]
    },
    {
      "cell_type": "code",
      "metadata": {
        "colab": {
          "base_uri": "https://localhost:8080/",
          "height": 344
        },
        "id": "6bLtJAw6r8br",
        "outputId": "95820bcc-d443-4e9b-fb2b-47f22413dcff"
      },
      "source": [
        "x_desired = np.array([1, 0])\r\n",
        "u_desired = np.array([5])\r\n",
        "n=2\r\n",
        "\r\n",
        "def StateSpace(x, t):\r\n",
        "    u = -K.dot(x - x_desired) + u_desired\r\n",
        "    return A.dot(x) + B.dot(u)\r\n",
        "\r\n",
        "time = np.linspace(0, 30, 30000)   \r\n",
        "x0 = np.random.rand(n)  # initial state\r\n",
        "\r\n",
        "solution = {\"solution_1\": odeint(StateSpace, x0, time)}    \r\n",
        "\r\n",
        "plt.rcParams['figure.figsize'] = [5, 5]\r\n",
        "plt.rcParams[\"font.size\"] = 16\r\n",
        "plt.rcParams[\"font.weight\"] = 'normal'\r\n",
        "\r\n",
        "# plt.subplot(221)\r\n",
        "plt.plot(time, solution[\"solution_1\"], linewidth=2)\r\n",
        "plt.xlabel('time')\r\n",
        "plt.ylabel('x(t)')\r\n",
        "plt.grid(color='k', linestyle='--', linewidth=0.7, alpha=0.3)\r\n",
        "# plt.title('autonomous')"
      ],
      "execution_count": 43,
      "outputs": [
        {
          "output_type": "display_data",
          "data": {
            "image/png": "[encoded data removed]",
            "text/plain": [
              "<Figure size 360x360 with 1 Axes>"
            ]
          },
          "metadata": {
            "tags": [],
            "needs_background": "light"
          }
        }
      ]
    },
    {
      "cell_type": "markdown",
      "metadata": {
        "id": "f1nIuMOQlwKY"
      },
      "source": [
        "\r\n",
        "* b) where $B \\in \\mathbb{R}^{2 \\times 2}$ \\\\\r\n",
        "Let take matrix $A = \\begin{bmatrix} 10 & 0 \\\\ -5 & 10 \\end{bmatrix}$, $B=\\begin{bmatrix} 2 & 1 \\\\ 0 & -1 \\end{bmatrix}$ and $x_{desired}=\\begin{bmatrix} 1 \\\\ 0 \\end{bmatrix}$. Also let us take poles $\\begin{bmatrix} -1 \\\\ -2 \\end{bmatrix}$. \\\r\n",
        "\\\r\n",
        "As per lectures, we can define control as $$u = -K (x - x_{desired}) + u_{desired}$$ \r\n",
        "\\\r\n",
        "Also, we know that $\\dot x_{desired} = 0$, Therefore:\r\n",
        "$$\\dot x_{desired} = Ax_{desired}+Bu_{desired}$$\r\n",
        "\\\r\n",
        "$$0 = \\begin{bmatrix} 10 & 0 \\\\ -5 & 10 \\end{bmatrix} \\begin{bmatrix} 1 \\\\ 0 \\end{bmatrix}+\\begin{bmatrix} 2 & 1 \\\\ 0 & -1 \\end{bmatrix} \\begin{bmatrix} u_{d1} \\\\ u_{d2} \\end{bmatrix}$$\r\n",
        "\\\r\n",
        "$$0=\\begin{bmatrix} 10 \\\\ -5 \\end{bmatrix} + \\begin{bmatrix} 2u_{d1}+u_{d2} \\\\ -u_{d2} \\end{bmatrix} \\Rightarrow u_{d2}=5,u_{d1}=-7.5 \\Rightarrow u=\\begin{bmatrix} -7.5 \\\\ 5 \\end{bmatrix}$$\r\n",
        "\\\r\n",
        "Since we know poles, we can find matrix $K = \\begin{bmatrix} 3.5 & 5.5 \\\\ 5 & -11 \\end{bmatrix}$.\r\n",
        "\\\r\n",
        "\\\r\n",
        "The following code can help us to simulate the system. "
      ]
    },
    {
      "cell_type": "code",
      "metadata": {
        "colab": {
          "base_uri": "https://localhost:8080/"
        },
        "id": "2aVFiy6UlxS_",
        "outputId": "a5e06daa-97eb-4902-a13a-31d0045a72dc"
      },
      "source": [
        "from numpy.linalg import eig\r\n",
        "from scipy.integrate import odeint\r\n",
        "from scipy.signal import place_poles\r\n",
        "import matplotlib.pyplot as plt\r\n",
        "\r\n",
        "A = np.array([[10, 0], [-5, 10]])\r\n",
        "B = np.array([[2, 1], [0, -1]])\r\n",
        "\r\n",
        "#desired eigenvalues\r\n",
        "poles = np.array([-3, -2])\r\n",
        "place_obj = place_poles(A, B, poles)\r\n",
        "\r\n",
        "#found control gains\r\n",
        "K = place_obj.gain_matrix;\r\n",
        "print(\"K:\", K)\r\n",
        "\r\n",
        "#test that eigenvalues of the closed loop system are what they are supposed to be \r\n",
        "e, v = eig((A - B.dot(K)))\r\n",
        "print(\"eigenvalues of A - B*K:\", e)"
      ],
      "execution_count": 44,
      "outputs": [
        {
          "output_type": "stream",
          "text": [
            "K: [[  4.   6.]\n",
            " [  5. -12.]]\n",
            "eigenvalues of A - B*K: [-3. -2.]\n"
          ],
          "name": "stdout"
        }
      ]
    },
    {
      "cell_type": "code",
      "metadata": {
        "colab": {
          "base_uri": "https://localhost:8080/",
          "height": 344
        },
        "id": "jyECcB-ozLVa",
        "outputId": "89eeaa70-e06a-4228-bbd6-8bfc2f8b7989"
      },
      "source": [
        "x_desired = np.array([1, 0])\r\n",
        "u_desired = np.array([-7.5, 5])\r\n",
        "n=2\r\n",
        "\r\n",
        "def StateSpace(x, t):\r\n",
        "    u = -K.dot(x - x_desired) + u_desired\r\n",
        "    return A.dot(x) + B.dot(u)\r\n",
        "\r\n",
        "time = np.linspace(0, 30, 30000)   \r\n",
        "x0 = np.random.rand(n)  # initial state\r\n",
        "\r\n",
        "solution = {\"solution_1\": odeint(StateSpace, x0, time)}    \r\n",
        "\r\n",
        "plt.rcParams['figure.figsize'] = [5, 5]\r\n",
        "plt.rcParams[\"font.family\"] = \"DejaVu Sans\"\r\n",
        "plt.rcParams[\"font.size\"] = 16\r\n",
        "plt.rcParams[\"font.weight\"] = 'normal'\r\n",
        "\r\n",
        "# plt.subplot(221)\r\n",
        "plt.plot(time, solution[\"solution_1\"], linewidth=2)\r\n",
        "plt.xlabel('time')\r\n",
        "plt.ylabel('x(t)')\r\n",
        "plt.grid(color='k', linestyle='--', linewidth=0.7, alpha=0.3)\r\n",
        "# plt.title('autonomous')"
      ],
      "execution_count": 46,
      "outputs": [
        {
          "output_type": "display_data",
          "data": {
            "image/png": "[encoded data removed]",
            "text/plain": [
              "<Figure size 360x360 with 1 Axes>"
            ]
          },
          "metadata": {
            "tags": [],
            "needs_background": "light"
          }
        }
      ]
    },
    {
      "cell_type": "markdown",
      "metadata": {
        "id": "ww_WJFwA9M-I"
      },
      "source": [
        "#Task 6 Discrete systems"
      ]
    },
    {
      "cell_type": "markdown",
      "metadata": {
        "id": "Mxc6gPUM9Qcb"
      },
      "source": [
        "## Task 6.1 Find which of the following systems is stable:\r\n",
        "\r\n",
        "* a) $$x_{i+1} = \r\n",
        "\\begin{pmatrix} 0.5 & 0.1 \\\\ -0.05 & 0.2\r\n",
        "\\end{pmatrix}\r\n",
        "x_i\r\n",
        "$$"
      ]
    },
    {
      "cell_type": "code",
      "metadata": {
        "colab": {
          "base_uri": "https://localhost:8080/"
        },
        "id": "JQzVI44ynxhj",
        "outputId": "d3699c2b-13c6-46f8-9117-8b0741e01987"
      },
      "source": [
        "from numpy.linalg import eig\r\n",
        "\r\n",
        "A = np.array([[0.5, 0.1], [-0.05, 0.2]])\r\n",
        "\r\n",
        "e, v = eig(A)\r\n",
        "print(\"Eigenvalues of A:\\n\", abs(e))"
      ],
      "execution_count": 47,
      "outputs": [
        {
          "output_type": "stream",
          "text": [
            "Eigenvalues of A:\n",
            " [0.48228757 0.21771243]\n"
          ],
          "name": "stdout"
        }
      ]
    },
    {
      "cell_type": "markdown",
      "metadata": {
        "id": "DYP07w5EoLy-"
      },
      "source": [
        "Both $\\lambda_1 = 0.48228757$ and $\\lambda_2 = 0.21771243$ are less than 1, hence it is asymptotically stable"
      ]
    },
    {
      "cell_type": "markdown",
      "metadata": {
        "id": "28szWiqCl_-K"
      },
      "source": [
        "* b) $$x_{i+1} = \r\n",
        "\\begin{pmatrix} 1 & -2 \\\\ 0 & 0.3\r\n",
        "\\end{pmatrix}\r\n",
        "x_i\r\n",
        "$$"
      ]
    },
    {
      "cell_type": "code",
      "metadata": {
        "colab": {
          "base_uri": "https://localhost:8080/"
        },
        "id": "AxE91DpWpZjm",
        "outputId": "e284655f-3398-45a5-e8f8-12d1f3eaabd2"
      },
      "source": [
        "from numpy.linalg import eig\r\n",
        "\r\n",
        "A = np.array([[1, -2], [0, 0.3]])\r\n",
        "\r\n",
        "e, v = eig(A)\r\n",
        "print(\"Eigenvalues of A:\\n\", abs(e))"
      ],
      "execution_count": 48,
      "outputs": [
        {
          "output_type": "stream",
          "text": [
            "Eigenvalues of A:\n",
            " [1.  0.3]\n"
          ],
          "name": "stdout"
        }
      ]
    },
    {
      "cell_type": "markdown",
      "metadata": {
        "id": "in8d8fVrpdv4"
      },
      "source": [
        "Both  $λ_1=1$ and  $λ_2=0.3$ are less than or equal to 1, hence it is Lyapunov stable"
      ]
    },
    {
      "cell_type": "markdown",
      "metadata": {
        "id": "tg1i-K27mBSa"
      },
      "source": [
        "* c) $$x_{i+1} = \r\n",
        "\\begin{pmatrix} -5 & 0 \\\\ -0.1 & 1\r\n",
        "\\end{pmatrix}\r\n",
        "x_i\r\n",
        "+\r\n",
        "\\begin{pmatrix} \r\n",
        "0 \\\\ 0.5\r\n",
        "\\end{pmatrix}\r\n",
        "u_i, \\ \\ \\ \r\n",
        "u_i = \r\n",
        "\\begin{pmatrix} \r\n",
        "0 & 0.2\r\n",
        "\\end{pmatrix}\r\n",
        "x_i\r\n",
        "$$"
      ]
    },
    {
      "cell_type": "code",
      "metadata": {
        "colab": {
          "base_uri": "https://localhost:8080/"
        },
        "id": "nGh8XJoRp71x",
        "outputId": "92eac5e7-824c-47f3-e9df-794c1aa91c74"
      },
      "source": [
        "import numpy as np\r\n",
        "from numpy.linalg import eig\r\n",
        "from scipy.integrate import odeint\r\n",
        "from scipy.signal import place_poles\r\n",
        "\r\n",
        "n = 2\r\n",
        "A = np.array([[-5, 0], [-0.1, 1]])\r\n",
        "B = np.array([[0], [0.5]])\r\n",
        "\r\n",
        "K = np.array([[0, 0.2]])\r\n",
        "e, v = eig((A - B.dot(K)))\r\n",
        "print(\"eigenvalues of A - B*K:\", e)"
      ],
      "execution_count": 51,
      "outputs": [
        {
          "output_type": "stream",
          "text": [
            "eigenvalues of A - B*K: [ 0.9 -5. ]\n"
          ],
          "name": "stdout"
        }
      ]
    },
    {
      "cell_type": "markdown",
      "metadata": {
        "id": "04XCSpul8SFC"
      },
      "source": [
        "As absolute value of $λ_2$ is greater than 1, it is unstable"
      ]
    },
    {
      "cell_type": "markdown",
      "metadata": {
        "id": "fQDUy83TmEEu"
      },
      "source": [
        "* d) $$x_{i+1} = \r\n",
        "\\begin{pmatrix} -2.2 & -3 \\\\ 0 & 0.5\r\n",
        "\\end{pmatrix}\r\n",
        "x_i\r\n",
        "+\r\n",
        "\\begin{pmatrix} \r\n",
        "-1 \\\\ 1\r\n",
        "\\end{pmatrix}\r\n",
        "u_i, \\ \\ \\ \r\n",
        "u_i = 10\r\n",
        "$$"
      ]
    },
    {
      "cell_type": "code",
      "metadata": {
        "colab": {
          "base_uri": "https://localhost:8080/"
        },
        "id": "aukIBrDD9hkC",
        "outputId": "d80ed286-bf88-435b-a393-68cad1bd1b23"
      },
      "source": [
        "import numpy as np\r\n",
        "from numpy.linalg import eig\r\n",
        "from scipy.integrate import odeint\r\n",
        "from scipy.signal import place_poles\r\n",
        "\r\n",
        "n = 2\r\n",
        "A = np.array([[-2.2, -3], [0, 0.5]])\r\n",
        "B = np.array([[-1], [1]])\r\n",
        "\r\n",
        "K = np.array([[10]])\r\n",
        "e, v = eig((A - B.dot(K)))\r\n",
        "print(\"eigenvalues of A - B*K:\", e)"
      ],
      "execution_count": 65,
      "outputs": [
        {
          "output_type": "stream",
          "text": [
            "eigenvalues of A - B*K: [ 1.34601913 -3.04601913]\n"
          ],
          "name": "stdout"
        }
      ]
    },
    {
      "cell_type": "markdown",
      "metadata": {
        "id": "k037LMn39q6o"
      },
      "source": [
        "As the absolute value of both of the $\\lambda_1$ and $\\lambda_2$, is greater than 1, it is unstable"
      ]
    },
    {
      "cell_type": "markdown",
      "metadata": {
        "id": "YPTgZ3rvmGin"
      },
      "source": [
        "## Task 6.2 Propose control that makes the following systems stable:"
      ]
    },
    {
      "cell_type": "markdown",
      "metadata": {
        "id": "Vqr-bOjymMgG"
      },
      "source": [
        "* a) $$x_{i+1} = \r\n",
        "\\begin{pmatrix} 1 & 1 \\\\ -0.4 & 0.1\r\n",
        "\\end{pmatrix}\r\n",
        "x_i\r\n",
        "+\r\n",
        "\\begin{pmatrix} \r\n",
        "0.5 \\\\ 0.5\r\n",
        "\\end{pmatrix}\r\n",
        "u_i\r\n",
        "$$"
      ]
    },
    {
      "cell_type": "markdown",
      "metadata": {
        "id": "Mbn_iP1KdhIf"
      },
      "source": [
        "For discrete system to be stable eigenvalues of the matrix has to be less than or equal to 1.\r\n",
        "\\\r\n",
        "Systems are written in form $$x_{i+1}=Ax_i+Bu_i$$\r\n",
        "\\\r\n",
        "Let us write $u_i$ as $-Kx_i$ and we get\r\n",
        "$$x_{i+1}=(A-BK)x_i$$\r\n",
        "\\\r\n",
        "Let us assume that eigenvalues of $(A-BK)$ are $0.5$ and $0.25$, so we need to find appropriate values of matrix $K$."
      ]
    },
    {
      "cell_type": "code",
      "metadata": {
        "colab": {
          "base_uri": "https://localhost:8080/"
        },
        "id": "2JhIzRcpD7Za",
        "outputId": "e3e5b976-1870-45e6-caee-308e80b9ff0c"
      },
      "source": [
        "import numpy as np\r\n",
        "from scipy.integrate import odeint\r\n",
        "from scipy import signal\r\n",
        "\r\n",
        "A = np.array([[1, 1], \r\n",
        "               [-0.4, 0.1]])\r\n",
        "\r\n",
        "B = np.array([[0.5], \r\n",
        "              [0.5]])\r\n",
        "\r\n",
        "C = np.array([[1, 1]])\r\n",
        "D = np.array([[0]])\r\n",
        "\r\n",
        "T = 0.1\r\n",
        "\r\n",
        "A_d, B_d, C_d, D_d, _ = signal.cont2discrete((A,B,C,D), T)\r\n",
        "\r\n",
        "e, v = eig(A_d)\r\n",
        "print(\"Original eigenvalues of A:\\n\", e)\r\n",
        "\r\n",
        "#desired eigenvalues\r\n",
        "poles = np.array([0.5, 0.75])\r\n",
        "place_obj = signal.place_poles(A_d, B_d, poles)\r\n",
        "\r\n",
        "#found control gains\r\n",
        "K = place_obj.gain_matrix\r\n",
        "print(\"\\nGain matrix K:\\n\", K)\r\n",
        "\r\n",
        "#test that eigenvalues of the closed loop system are what they are supposed to be \r\n",
        "e, v = eig((A_d - B_d.dot(K)))\r\n",
        "print(\"\\nPlaced eigenvalues of A - B*K:\\n\", abs(e))"
      ],
      "execution_count": 64,
      "outputs": [
        {
          "output_type": "stream",
          "text": [
            "Original eigenvalues of A:\n",
            " [1.05549745+0.04693824j 1.05549745-0.04693824j]\n",
            "\n",
            "Gain matrix K:\n",
            " [[19.09892426 -3.90787582]]\n",
            "\n",
            "Placed eigenvalues of A - B*K:\n",
            " [0.5  0.75]\n"
          ],
          "name": "stdout"
        }
      ]
    },
    {
      "cell_type": "markdown",
      "metadata": {
        "id": "PnX7mzdFmO_H"
      },
      "source": [
        "* b) $$x_{i+1} = \r\n",
        "\\begin{pmatrix} 0.8 & -0.3 \\\\ 0 & 0.15\r\n",
        "\\end{pmatrix}\r\n",
        "x_i\r\n",
        "+\r\n",
        "\\begin{pmatrix} \r\n",
        "-1 \\\\ 1\r\n",
        "\\end{pmatrix}\r\n",
        "u_i\r\n",
        "$$"
      ]
    },
    {
      "cell_type": "code",
      "metadata": {
        "colab": {
          "base_uri": "https://localhost:8080/"
        },
        "id": "j0PiVBxQE50V",
        "outputId": "c478de26-23d1-4b64-9473-448bf299bd91"
      },
      "source": [
        "import numpy as np\r\n",
        "from scipy.integrate import odeint\r\n",
        "from scipy import signal\r\n",
        "\r\n",
        "A = np.array([[0.8, -0.3], \r\n",
        "               [0, 0.15]])\r\n",
        "\r\n",
        "B = np.array([[-1], \r\n",
        "              [1]])\r\n",
        "\r\n",
        "C = np.array([[2, 1]])\r\n",
        "D = np.array([[2]])\r\n",
        "\r\n",
        "T = 0.1\r\n",
        "\r\n",
        "A_d, B_d, C_d, D_d, _ = signal.cont2discrete((A,B,C,D), T)\r\n",
        "\r\n",
        "e, v = eig(A_d)\r\n",
        "print(\"Original eigenvalues of A:\\n\", e)\r\n",
        "\r\n",
        "#desired eigenvalues\r\n",
        "poles = np.array([0.5, 0.25])\r\n",
        "place_obj = signal.place_poles(A_d, B_d, poles)\r\n",
        "\r\n",
        "#found control gains\r\n",
        "K = place_obj.gain_matrix\r\n",
        "print(\"\\nGain matrix K:\\n\", K)\r\n",
        "\r\n",
        "#test that eigenvalues of the closed loop system are what they are supposed to be \r\n",
        "e, v = eig((A_d - B_d.dot(K)))\r\n",
        "print(\"\\nPlaced eigenvalues of A - B*K:\\n\", abs(e))"
      ],
      "execution_count": 63,
      "outputs": [
        {
          "output_type": "stream",
          "text": [
            "Original eigenvalues of A:\n",
            " [1.08328707 1.01511306]\n",
            "\n",
            "Gain matrix K:\n",
            " [[-46.85547663 -35.7527522 ]]\n",
            "\n",
            "Placed eigenvalues of A - B*K:\n",
            " [0.25 0.5 ]\n"
          ],
          "name": "stdout"
        }
      ]
    },
    {
      "cell_type": "markdown",
      "metadata": {
        "id": "n3ifJXnBmVWg"
      },
      "source": [
        "## Task 6.3 Design point-to-point control and simulate two discrete systems:\r\n",
        "\r\n",
        "* a)  where $B \\in \\mathbb{R}^{2 \\times 1}$\r\n",
        "$$ x_{i+1} = \r\n",
        "\\begin{pmatrix} 1 & -3 \\\\ 5 & -15\r\n",
        "\\end{pmatrix}\r\n",
        "x_i\r\n",
        "+\r\n",
        "\\begin{pmatrix} \r\n",
        "-1 \\\\ -5\r\n",
        "\\end{pmatrix}\r\n",
        "u_i\r\n",
        "$$\r\n",
        "\r\n",
        "Drive it towards the point $x^* = \\begin{pmatrix} 1 \\\\ 1 \\end{pmatrix}$\r\n",
        "\r\n",
        "$\\dot x^* = 0$, so dynamics obtains the form:\r\n",
        "\r\n",
        "$$0 = \r\n",
        "\\begin{pmatrix} 1 & -3 \\\\ 5 & -15\r\n",
        "\\end{pmatrix}\r\n",
        "\\begin{pmatrix} 1 \\\\ 1 \\end{pmatrix}\r\n",
        "+\r\n",
        "\\begin{pmatrix} \r\n",
        "-1 \\\\ -5\r\n",
        "\\end{pmatrix}\r\n",
        "u^*\r\n",
        "$$\r\n",
        "In other words, $u^* = -2$."
      ]
    },
    {
      "cell_type": "code",
      "metadata": {
        "colab": {
          "base_uri": "https://localhost:8080/"
        },
        "id": "nk9lWibpnYaU",
        "outputId": "d96b9216-d744-4e1f-be41-249609de9d24"
      },
      "source": [
        "from numpy.linalg import eig\r\n",
        "from scipy.integrate import odeint\r\n",
        "from scipy.signal import place_poles\r\n",
        "import matplotlib.pyplot as plt\r\n",
        "\r\n",
        "A = np.array([[1, -3], [5, -15]])\r\n",
        "B = np.array([[-1], [-5]])\r\n",
        "\r\n",
        "#desired eigenvalues\r\n",
        "poles = np.array([-5, -2])\r\n",
        "place_obj = place_poles(A, B, poles)\r\n",
        "\r\n",
        "#found control gains\r\n",
        "K = place_obj.gain_matrix;\r\n",
        "print(\"K:\", K)\r\n",
        "\r\n",
        "#test that eigenvalues of the closed loop system are what they are supposed to be \r\n",
        "e, v = eig((A - B.dot(K)))\r\n",
        "print(\"eigenvalues of A - B*K:\", e)"
      ],
      "execution_count": 61,
      "outputs": [
        {
          "output_type": "stream",
          "text": [
            "K: [[-3.53291421e+14  7.06582843e+13]]\n",
            "eigenvalues of A - B*K: [-3.17256912+1880063.52215183j -3.17256912-1880063.52215183j]\n"
          ],
          "name": "stdout"
        }
      ]
    },
    {
      "cell_type": "code",
      "metadata": {
        "colab": {
          "base_uri": "https://localhost:8080/",
          "height": 376
        },
        "id": "O2vbNzHUBl6O",
        "outputId": "a7d01069-4169-458c-bd18-774e37b22ad6"
      },
      "source": [
        "x_desired = np.array([1, 1])\r\n",
        "u_desired = np.array([-2])\r\n",
        "n=2\r\n",
        "\r\n",
        "Count = 100\r\n",
        "time = np.zeros((Count))\r\n",
        "dt = 0.01\r\n",
        "\r\n",
        "x0 = np.random.rand(n)  # initial state\r\n",
        "solution = np.zeros((Count, 2))\r\n",
        "solution[0, :] = x0\r\n",
        "\r\n",
        "for i in range(0, Count-1):\r\n",
        "    x = solution[i, :]\r\n",
        "    x = A.dot(x)\r\n",
        "    solution[i+1, :] = np.reshape(x, (1, 2))\r\n",
        "    time[i] = dt*i\r\n",
        "\r\n",
        "plt.plot(range(0, Count), solution, linewidth=2)\r\n",
        "plt.xlabel('time')\r\n",
        "plt.ylabel('x(t)')\r\n"
      ],
      "execution_count": 62,
      "outputs": [
        {
          "output_type": "execute_result",
          "data": {
            "text/plain": [
              "Text(0, 0.5, 'x(t)')"
            ]
          },
          "metadata": {
            "tags": []
          },
          "execution_count": 62
        },
        {
          "output_type": "display_data",
          "data": {
            "image/png": "[encoded data removed]",
            "text/plain": [
              "<Figure size 360x360 with 1 Axes>"
            ]
          },
          "metadata": {
            "tags": [],
            "needs_background": "light"
          }
        }
      ]
    },
    {
      "cell_type": "markdown",
      "metadata": {
        "id": "upiakrGumXmJ"
      },
      "source": [
        "* b) where $B \\in \\mathbb{R}^{2 \\times 2}$\r\n",
        "$$\\dot x_{i+1} = \r\n",
        "\\begin{pmatrix} -1 & 4 \\\\ -3 & 12\r\n",
        "\\end{pmatrix}\r\n",
        "x_{i}\r\n",
        "+\r\n",
        "\\begin{pmatrix} \r\n",
        "1 & 2 \\\\ -1.5 & 4\r\n",
        "\\end{pmatrix}\r\n",
        "u_{i}\r\n",
        "$$\r\n",
        "\r\n",
        "\r\n"
      ]
    },
    {
      "cell_type": "markdown",
      "metadata": {
        "id": "hGolxZLliSmg"
      },
      "source": [
        "Drive it towards the point $x^* = \\begin{pmatrix} 1 \\\\ 2 \\end{pmatrix}$\r\n",
        "\r\n",
        "$\\dot x^* = 0$, so dynamics obtains the form:\r\n",
        "\r\n",
        "$$0 = \r\n",
        "\\begin{pmatrix} -1 & 4 \\\\ -3 & 12\r\n",
        "\\end{pmatrix}\r\n",
        "\\begin{pmatrix} 1 \\\\ 2 \\end{pmatrix}\r\n",
        "+\r\n",
        "\\begin{pmatrix} \r\n",
        "1 & 2 \\\\ -1.5 & 4\r\n",
        "\\end{pmatrix}\r\n",
        "u^*\r\n",
        "$$\r\n",
        "In other words, $u^* = \\begin{pmatrix} 2 \\\\ -4.5 \\end{pmatrix}\\\\ $."
      ]
    },
    {
      "cell_type": "code",
      "metadata": {
        "colab": {
          "base_uri": "https://localhost:8080/"
        },
        "id": "mkZtTGGkCv7R",
        "outputId": "91703396-1abf-4ae6-815a-7eb15b9e349b"
      },
      "source": [
        "from numpy.linalg import eig\r\n",
        "from scipy.integrate import odeint\r\n",
        "from scipy.signal import place_poles\r\n",
        "import matplotlib.pyplot as plt\r\n",
        "\r\n",
        "A = np.array([[-1, 4], [-3, 12]])\r\n",
        "B = np.array([[1, 2], [-1.5, 4]])\r\n",
        "\r\n",
        "#desired eigenvalues\r\n",
        "poles = np.array([-5, -3])\r\n",
        "place_obj = place_poles(A, B, poles)\r\n",
        "\r\n",
        "#found control gains\r\n",
        "K = place_obj.gain_matrix;\r\n",
        "print(\"K:\", K)\r\n",
        "\r\n",
        "#test that eigenvalues of the closed loop system are what they are supposed to be \r\n",
        "e, v = eig((A - B.dot(K)))\r\n",
        "print(\"eigenvalues of A - B*K:\", e)"
      ],
      "execution_count": 59,
      "outputs": [
        {
          "output_type": "stream",
          "text": [
            "K: [[ 3.14285714 -2.        ]\n",
            " [ 0.42857143  3.        ]]\n",
            "eigenvalues of A - B*K: [-3. -5.]\n"
          ],
          "name": "stdout"
        }
      ]
    },
    {
      "cell_type": "code",
      "metadata": {
        "colab": {
          "base_uri": "https://localhost:8080/",
          "height": 376
        },
        "id": "NddgKibSCuhq",
        "outputId": "8a58458f-01ec-4726-9f27-ab32dde44bc1"
      },
      "source": [
        "x_desired = np.array([1, 2])\r\n",
        "u_desired = np.array([2, -4.5])\r\n",
        "n=2\r\n",
        "\r\n",
        "Count = 100\r\n",
        "time = np.zeros((Count))\r\n",
        "dt = 0.01\r\n",
        "\r\n",
        "x0 = np.random.rand(n)  # initial state\r\n",
        "solution = np.zeros((Count, 2))\r\n",
        "solution[0, :] = x0\r\n",
        "\r\n",
        "for i in range(0, Count-1):\r\n",
        "    x = solution[i, :]\r\n",
        "    x = A.dot(x)\r\n",
        "    solution[i+1, :] = np.reshape(x, (1, 2))\r\n",
        "    time[i] = dt*i\r\n",
        "\r\n",
        "plt.plot(range(0, Count), solution, linewidth=2)\r\n",
        "plt.xlabel('time')\r\n",
        "plt.ylabel('x(t)')\r\n"
      ],
      "execution_count": 60,
      "outputs": [
        {
          "output_type": "execute_result",
          "data": {
            "text/plain": [
              "Text(0, 0.5, 'x(t)')"
            ]
          },
          "metadata": {
            "tags": []
          },
          "execution_count": 60
        },
        {
          "output_type": "display_data",
          "data": {
            "image/png": "[encoded data removed]",
            "text/plain": [
              "<Figure size 360x360 with 1 Axes>"
            ]
          },
          "metadata": {
            "tags": [],
            "needs_background": "light"
          }
        }
      ]
    }
  ]
}